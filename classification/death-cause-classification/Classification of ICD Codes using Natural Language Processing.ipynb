{
 "cells": [
  {
   "cell_type": "markdown",
   "metadata": {},
   "source": [
    "___\n",
    "\n",
    "<a href='http://www.dourthe.tech'> <img src='Dourthe_Technologies_Headers.png' /></a>\n",
    "___\n",
    "<center><em>For more information, visit <a href='http://www.dourthe.tech'>www.dourthe.tech</a></em></center>"
   ]
  },
  {
   "cell_type": "markdown",
   "metadata": {},
   "source": [
    "\n",
    "# Classification of ICD Codes using Natural Language Processing\n",
    "\n",
    "___ \n",
    "## Objective\n",
    "Train a machine learning model to classify International Classification of Diseases (ICD) codes into general death cause ID using Natural Language Processing techniques.\n",
    "\n",
    " ___\n",
    "## Dataset\n",
    "The International Classification of Diseases (ICD) is designed to promote international comparability in the collection, processing, classification, and presentation of mortality statistics. This includes providing a format for reporting causes of death on the death certificate. The reported conditions are then translated into medical codes through use of the classification structure and the selection and modification rules contained in the applicable revision of the ICD, published by the World Health Organization (WHO). These coding rules improve the usefulness of mortality statistics by giving preference to certain categories, by consolidating conditions, and by systematically selecting a single cause of death from a reported sequence of conditions. The single selected cause for tabulation is called the underlying cause of death, and the other reported causes are the nonunderlying causes of death. The combination of underlying and nonunderlying causes is the multiple causes of death.\n",
    "\n",
    "_For more details on the International Classification of Diseases, visit https://www.cdc.gov/nchs/icd/icd10.htm_\n",
    "\n",
    "The dataset has the following structure:\n",
    "\n",
    "| Column | Description |\n",
    "|:---|:---|\n",
    "| code | ICD code |\n",
    "| causeid | General death cause ID (classification target) |\n",
    "| short_desc | Short description of the disease |\n",
    "| long_desk | Long description of the disease |\n",
    "| three_digit | ICD code with only three characters, which represent a larger ICD code category |\n",
    "| sub_chapter | Disease sub-category |\n",
    "| chapter | Disease main category |"
   ]
  },
  {
   "cell_type": "markdown",
   "metadata": {},
   "source": [
    "___\n",
    "## Libraries Imports\n",
    "### Data manipulation and analysis"
   ]
  },
  {
   "cell_type": "code",
   "execution_count": 1,
   "metadata": {},
   "outputs": [],
   "source": [
    "import pandas as pd\n",
    "import numpy as np"
   ]
  },
  {
   "cell_type": "markdown",
   "metadata": {},
   "source": [
    "### Data visualization"
   ]
  },
  {
   "cell_type": "code",
   "execution_count": 3,
   "metadata": {},
   "outputs": [],
   "source": [
    "import matplotlib.pyplot as plt\n",
    "import seaborn as sns\n",
    "\n",
    "%matplotlib inline"
   ]
  },
  {
   "cell_type": "markdown",
   "metadata": {},
   "source": [
    "### Text processing"
   ]
  },
  {
   "cell_type": "code",
   "execution_count": 4,
   "metadata": {},
   "outputs": [],
   "source": [
    "# For dates conversion to datetime format\n",
    "from dateutil import parser\n",
    "# For punctuation extraction\n",
    "import string\n",
    "# For stopwords (i.e. common words) extraction\n",
    "from nltk.corpus import stopwords"
   ]
  },
  {
   "cell_type": "markdown",
   "metadata": {},
   "source": [
    "### Machine learning"
   ]
  },
  {
   "cell_type": "code",
   "execution_count": 5,
   "metadata": {},
   "outputs": [],
   "source": [
    "# For splitting data between training and test set\n",
    "from sklearn.model_selection import train_test_split\n",
    "\n",
    "# For generating pipelines\n",
    "from sklearn.pipeline import Pipeline\n",
    "\n",
    "# For words vectorization\n",
    "from sklearn.feature_extraction.text import CountVectorizer\n",
    "# For term frequency-inverse document frequency\n",
    "from sklearn.feature_extraction.text import TfidfTransformer\n",
    "# Classification model\n",
    "from sklearn.naive_bayes import MultinomialNB\n",
    "\n",
    "# For model evaluation\n",
    "from sklearn.metrics import classification_report"
   ]
  },
  {
   "cell_type": "markdown",
   "metadata": {},
   "source": [
    "___\n",
    "## Data Import"
   ]
  },
  {
   "cell_type": "code",
   "execution_count": 151,
   "metadata": {},
   "outputs": [],
   "source": [
    "df = pd.read_csv('deaths_icd10_descript.csv')"
   ]
  },
  {
   "cell_type": "markdown",
   "metadata": {},
   "source": [
    "___\n",
    "## Exploratory Data Analysis\n",
    "### General"
   ]
  },
  {
   "cell_type": "markdown",
   "metadata": {},
   "source": [
    "**Display the first few rows of each dataset.**"
   ]
  },
  {
   "cell_type": "code",
   "execution_count": 152,
   "metadata": {
    "scrolled": true
   },
   "outputs": [
    {
     "data": {
      "text/html": [
       "<div>\n",
       "<style scoped>\n",
       "    .dataframe tbody tr th:only-of-type {\n",
       "        vertical-align: middle;\n",
       "    }\n",
       "\n",
       "    .dataframe tbody tr th {\n",
       "        vertical-align: top;\n",
       "    }\n",
       "\n",
       "    .dataframe thead th {\n",
       "        text-align: right;\n",
       "    }\n",
       "</style>\n",
       "<table border=\"1\" class=\"dataframe\">\n",
       "  <thead>\n",
       "    <tr style=\"text-align: right;\">\n",
       "      <th></th>\n",
       "      <th>code</th>\n",
       "      <th>causeid</th>\n",
       "      <th>short_desc</th>\n",
       "      <th>long_desc</th>\n",
       "      <th>three_digit</th>\n",
       "      <th>sub_chapter</th>\n",
       "      <th>chapter</th>\n",
       "    </tr>\n",
       "  </thead>\n",
       "  <tbody>\n",
       "    <tr>\n",
       "      <th>0</th>\n",
       "      <td>A014</td>\n",
       "      <td>respinfect</td>\n",
       "      <td>Paratyphoid fever, unspecified</td>\n",
       "      <td>Paratyphoid fever, unspecified</td>\n",
       "      <td>A01</td>\n",
       "      <td>Intestinal Infectious Diseases</td>\n",
       "      <td>Certain infectious and parasitic diseases</td>\n",
       "    </tr>\n",
       "    <tr>\n",
       "      <th>1</th>\n",
       "      <td>A021</td>\n",
       "      <td>infect</td>\n",
       "      <td>Salmonella sepsis</td>\n",
       "      <td>Salmonella sepsis</td>\n",
       "      <td>A02</td>\n",
       "      <td>Intestinal Infectious Diseases</td>\n",
       "      <td>Certain infectious and parasitic diseases</td>\n",
       "    </tr>\n",
       "    <tr>\n",
       "      <th>2</th>\n",
       "      <td>A042</td>\n",
       "      <td>enteric_all</td>\n",
       "      <td>Enteroinvasive Escherichia coli infection</td>\n",
       "      <td>Enteroinvasive Escherichia coli infection</td>\n",
       "      <td>A04</td>\n",
       "      <td>Intestinal Infectious Diseases</td>\n",
       "      <td>Certain infectious and parasitic diseases</td>\n",
       "    </tr>\n",
       "    <tr>\n",
       "      <th>3</th>\n",
       "      <td>A044</td>\n",
       "      <td>enteric_all</td>\n",
       "      <td>Other intestinal Escherichia coli infections</td>\n",
       "      <td>Other intestinal Escherichia coli infections</td>\n",
       "      <td>A04</td>\n",
       "      <td>Intestinal Infectious Diseases</td>\n",
       "      <td>Certain infectious and parasitic diseases</td>\n",
       "    </tr>\n",
       "    <tr>\n",
       "      <th>4</th>\n",
       "      <td>A045</td>\n",
       "      <td>enteric_all</td>\n",
       "      <td>Campylobacter enteritis</td>\n",
       "      <td>Campylobacter enteritis</td>\n",
       "      <td>A04</td>\n",
       "      <td>Intestinal Infectious Diseases</td>\n",
       "      <td>Certain infectious and parasitic diseases</td>\n",
       "    </tr>\n",
       "  </tbody>\n",
       "</table>\n",
       "</div>"
      ],
      "text/plain": [
       "   code      causeid                                    short_desc  \\\n",
       "0  A014   respinfect                Paratyphoid fever, unspecified   \n",
       "1  A021       infect                             Salmonella sepsis   \n",
       "2  A042  enteric_all     Enteroinvasive Escherichia coli infection   \n",
       "3  A044  enteric_all  Other intestinal Escherichia coli infections   \n",
       "4  A045  enteric_all                       Campylobacter enteritis   \n",
       "\n",
       "                                      long_desc three_digit  \\\n",
       "0                Paratyphoid fever, unspecified         A01   \n",
       "1                             Salmonella sepsis         A02   \n",
       "2     Enteroinvasive Escherichia coli infection         A04   \n",
       "3  Other intestinal Escherichia coli infections         A04   \n",
       "4                       Campylobacter enteritis         A04   \n",
       "\n",
       "                      sub_chapter                                    chapter  \n",
       "0  Intestinal Infectious Diseases  Certain infectious and parasitic diseases  \n",
       "1  Intestinal Infectious Diseases  Certain infectious and parasitic diseases  \n",
       "2  Intestinal Infectious Diseases  Certain infectious and parasitic diseases  \n",
       "3  Intestinal Infectious Diseases  Certain infectious and parasitic diseases  \n",
       "4  Intestinal Infectious Diseases  Certain infectious and parasitic diseases  "
      ]
     },
     "execution_count": 152,
     "metadata": {},
     "output_type": "execute_result"
    }
   ],
   "source": [
    "df.head()"
   ]
  },
  {
   "cell_type": "markdown",
   "metadata": {},
   "source": [
    "**INTERPRETATION**\n",
    "\n",
    "We can see that the different description and chapter columns do not contain a lot of text, which may make it hard for a machine learning algorithm to detect patterns. In addition, several cause IDs have the same information in the 'sub_chapter' and 'chapter' columns, which may add confusion to the model during training. Finally, the 'short_desc' and 'long_desc' columns seem to have repetitive information."
   ]
  },
  {
   "cell_type": "markdown",
   "metadata": {},
   "source": [
    "### Missing data\n",
    "**Calculate ratio of missing data per column based on the length of the entire dataset.**"
   ]
  },
  {
   "cell_type": "code",
   "execution_count": 153,
   "metadata": {},
   "outputs": [
    {
     "data": {
      "text/plain": [
       "code           0.00\n",
       "causeid        0.00\n",
       "short_desc     9.88\n",
       "long_desc      9.88\n",
       "three_digit    9.88\n",
       "sub_chapter    9.88\n",
       "chapter        9.88\n",
       "dtype: float64"
      ]
     },
     "execution_count": 153,
     "metadata": {},
     "output_type": "execute_result"
    }
   ],
   "source": [
    "np.round(df.isnull().sum()*100/len(df),2)"
   ]
  },
  {
   "cell_type": "markdown",
   "metadata": {},
   "source": [
    "About 10% of the data is missing information for all columns beside _code_ and _causeid_.\n",
    "\n",
    "**Let's drop all rows with missing data.**"
   ]
  },
  {
   "cell_type": "code",
   "execution_count": 154,
   "metadata": {},
   "outputs": [],
   "source": [
    "df = df.dropna()"
   ]
  },
  {
   "cell_type": "code",
   "execution_count": 155,
   "metadata": {},
   "outputs": [
    {
     "data": {
      "text/plain": [
       "code           0.0\n",
       "causeid        0.0\n",
       "short_desc     0.0\n",
       "long_desc      0.0\n",
       "three_digit    0.0\n",
       "sub_chapter    0.0\n",
       "chapter        0.0\n",
       "dtype: float64"
      ]
     },
     "execution_count": 155,
     "metadata": {},
     "output_type": "execute_result"
    }
   ],
   "source": [
    "np.round(df.isnull().sum()*100/len(df),2)"
   ]
  },
  {
   "cell_type": "markdown",
   "metadata": {},
   "source": [
    "### Garbage codes\n",
    "**Several codes have never been attributed a cause ID. As a result, their current cause ID is simply 'none'. These codes are referred to as 'garbage codes'.**\n",
    "\n",
    "Let's calculate the ratio of garbage codes in the dataset."
   ]
  },
  {
   "cell_type": "code",
   "execution_count": 156,
   "metadata": {},
   "outputs": [
    {
     "name": "stdout",
     "output_type": "stream",
     "text": [
      "Ratio of garbage codes:\t 33.82 % of the entire dataset.\n"
     ]
    }
   ],
   "source": [
    "print('Ratio of garbage codes:\\t', np.round(len(df[df['causeid']=='none'])*100/len(df), 2), '% of the entire dataset.')"
   ]
  },
  {
   "cell_type": "markdown",
   "metadata": {},
   "source": [
    "**We will isolate all garbage codes into a separate dataframe and remove them from the original one.**"
   ]
  },
  {
   "cell_type": "code",
   "execution_count": 157,
   "metadata": {},
   "outputs": [],
   "source": [
    "df_garbage = df[df['causeid']=='none']\n",
    "df = df.drop(df[df['causeid']=='none'].index)"
   ]
  },
  {
   "cell_type": "code",
   "execution_count": 158,
   "metadata": {},
   "outputs": [
    {
     "name": "stdout",
     "output_type": "stream",
     "text": [
      "Original dataset status:\n",
      "\tRatio of garbage codes:\t 0.0 % of the new dataset.\n",
      "Garbage codes dataset status:\n",
      "\tRatio of garbage codes:\t 100.0 % of the garbage dataset.\n"
     ]
    }
   ],
   "source": [
    "print('Original dataset status:')\n",
    "print('\\tRatio of garbage codes:\\t', np.round(len(df[df['causeid']=='none'])*100/len(df), 2), '% of the new dataset.')\n",
    "print('Garbage codes dataset status:')\n",
    "print('\\tRatio of garbage codes:\\t', np.round(len(df_garbage[df_garbage['causeid']=='none'])*100/len(df_garbage), 2), '% of the garbage dataset.')"
   ]
  },
  {
   "cell_type": "markdown",
   "metadata": {},
   "source": [
    "### Data visualization\n",
    "**Let's look at the data distrubtion for based on cause ID.**"
   ]
  },
  {
   "cell_type": "code",
   "execution_count": 159,
   "metadata": {},
   "outputs": [
    {
     "data": {
      "image/png": "[encoded data removed]",
      "text/plain": [
       "<Figure size 1296x432 with 1 Axes>"
      ]
     },
     "metadata": {
      "needs_background": "light"
     },
     "output_type": "display_data"
    }
   ],
   "source": [
    "plt.figure(figsize=(18,6))\n",
    "sns.countplot('causeid', data=df, order=df['causeid'].value_counts(ascending=True).index, color='steelblue')\n",
    "plt.title('Number of codes per cause ID')\n",
    "plt.show()"
   ]
  },
  {
   "cell_type": "markdown",
   "metadata": {},
   "source": [
    "**INTERPRETATION**\n",
    "They dataset is very unbalanced, as all cause IDs have very different number codes. This may become a problem for the cause IDs with the lowest counts, as the model may find it harder to detect patterns to classify future codes into these specific cause IDs."
   ]
  },
  {
   "cell_type": "markdown",
   "metadata": {},
   "source": [
    "___\n",
    "## Data Pre-processing"
   ]
  },
  {
   "cell_type": "markdown",
   "metadata": {},
   "source": [
    "### Data tokenization - convertion to bag-of-words\n",
    "\n",
    "**This operation consists of converting a text in string format to a list of words (bag-of-words) where each word is considered as a token.**\n",
    "\n",
    "This operation can be done in many ways, but here we will simply create a function that:\n",
    "\n",
    "1. Remove all punctuation characters from all string text\n",
    "2. Remove all stop words (i.e. most common words in the English language, as they could be present in all sample and may not contribute to any form of differentiation)"
   ]
  },
  {
   "cell_type": "code",
   "execution_count": 160,
   "metadata": {},
   "outputs": [],
   "source": [
    "def text_tokenization(text):\n",
    "    '''\n",
    "    Remove punctuation and stopwords (i.e. common words) from a text (in string format)\n",
    "    and returns a list of words from the cleaned text.\n",
    "    Input:\n",
    "        text: text in string format\n",
    "    Output:\n",
    "        cleaned_text: list of words (tokens) from the corresponding text, free of punctuation and stopwords\n",
    "    '''\n",
    "    # Remove all punctuation from text by looking at each character\n",
    "    text_no_punc = [char.lower() for char in text if char not in string.punctuation]\n",
    "\n",
    "    # Re-join all characters to re-form a string\n",
    "    text_no_punc = ''.join(text_no_punc)\n",
    "    \n",
    "    # Remove all stopwords\n",
    "    cleaned_text = [word for word in text_no_punc.split() if word.lower() not in stopwords.words('english')]\n",
    "        \n",
    "    return cleaned_text"
   ]
  },
  {
   "cell_type": "markdown",
   "metadata": {},
   "source": [
    "### Vectorization\n",
    "\n",
    "At this stage, all text data are represented by lists of tokens (also named _lemmas_), which require to be converted to some form of numerical vector in order to be processed by a machine learning algorithm.\n",
    "\n",
    "This operation is called **Vectorization** and can be done using the _CountVectorizer_ tool from SciKit Learn, which will convert our lists of tokens into a (mxn) matrix of tokens counts as illustrated below:\n",
    "\n",
    "| Entire vocabulary | Text 1 | Text 2 | ... | Text N |\n",
    "|:---|:---:|:---:|:---:|:---:|\n",
    "|Word 1 count | 1 | 0 | ... | 1 |\n",
    "|Word 2 count | 0 | 1 | ... | 0 |\n",
    "| ... | ... | ... | ... | ... |\n",
    "| Word i count | 0 | 2 | ... | 0 |\n",
    "| ... | ... | ... | ... | ... |\n",
    "|Word M count | 1 | 0 | ... | 3 |\n",
    "\n",
    "**Note:** Since this transformation usually results in a lot of zeros (as many text samples won't have a lot of words from the entire vocabulary), the _CountVectorizer_ tool from SciKit Learn will output a _Sparse Matrix_."
   ]
  },
  {
   "cell_type": "markdown",
   "metadata": {},
   "source": [
    "### Term frequency-inverse document frequency (TD-IDF) weights calculation\n",
    "\n",
    "TD-IDF weight is a statistical measure used to evaluate how important a term/word is to a text/document in a collection or corpus (i.e. dataset). It is calculated as followed:\n",
    "\n",
    "**1. Term frequency (TD):**\n",
    "\n",
    "    TD(T) = ( Total counts of term T in a given document ) / ( Total number of terms in the same document )\n",
    "\n",
    "\n",
    "**2. Inverse document frequency (IDF), which measures how import a term/word is based on how often it appears in the whole datatset (all texts/documents):**\n",
    "\n",
    "    IDF(T) = log_e ( Total number of documents / Number of documents that have term T in them)\n",
    "\n",
    "**TD-IDF = TD x IDF**"
   ]
  },
  {
   "cell_type": "markdown",
   "metadata": {},
   "source": [
    "___\n",
    "## Machine Learning"
   ]
  },
  {
   "cell_type": "markdown",
   "metadata": {},
   "source": [
    "### Pipeline definition\n",
    "**Create a pipeline that will:**\n",
    "1. Vectorize the data\n",
    "2. Calculate the TD-IDF weight of each word\n",
    "3. Define the type of classifier for the machine learning algorithm\n",
    "\n",
    "In terms of classifier, [Naive Bayes models](http://www.inf.ed.ac.uk/teaching/courses/inf2b/learnnotes/inf2b-learn-note07-2up.pdf) models have been shown to perform quite well on text data. Therefore, we will use the _MultinomialNB_ model from SciKit Learn."
   ]
  },
  {
   "cell_type": "code",
   "execution_count": 161,
   "metadata": {},
   "outputs": [],
   "source": [
    "pipeline1 = Pipeline([\n",
    "    ('bow', CountVectorizer()),  # strings to token integer counts\n",
    "    ('tfidf', TfidfTransformer()),  # integer counts to weighted TF-IDF scores\n",
    "    ('classifier', MultinomialNB()),  # train on TF-IDF vectors w/ Naive Bayes classifier\n",
    "])"
   ]
  },
  {
   "cell_type": "markdown",
   "metadata": {},
   "source": [
    "### Model 1 - Trained using 'long_desc' column only\n",
    "**Since the 'short_desc' and 'long_desc' columns seems indentical, and since the information provided by the 'sub_chapter' and 'chapter' columns seem to be the same for different cause IDs, we will start by training the algorithm using the data from the 'long_desc' column only.**"
   ]
  },
  {
   "cell_type": "code",
   "execution_count": 162,
   "metadata": {},
   "outputs": [],
   "source": [
    "df = df[['causeid', 'long_desc']]"
   ]
  },
  {
   "cell_type": "code",
   "execution_count": 163,
   "metadata": {},
   "outputs": [
    {
     "data": {
      "text/html": [
       "<div>\n",
       "<style scoped>\n",
       "    .dataframe tbody tr th:only-of-type {\n",
       "        vertical-align: middle;\n",
       "    }\n",
       "\n",
       "    .dataframe tbody tr th {\n",
       "        vertical-align: top;\n",
       "    }\n",
       "\n",
       "    .dataframe thead th {\n",
       "        text-align: right;\n",
       "    }\n",
       "</style>\n",
       "<table border=\"1\" class=\"dataframe\">\n",
       "  <thead>\n",
       "    <tr style=\"text-align: right;\">\n",
       "      <th></th>\n",
       "      <th>causeid</th>\n",
       "      <th>long_desc</th>\n",
       "    </tr>\n",
       "  </thead>\n",
       "  <tbody>\n",
       "    <tr>\n",
       "      <th>0</th>\n",
       "      <td>respinfect</td>\n",
       "      <td>Paratyphoid fever, unspecified</td>\n",
       "    </tr>\n",
       "    <tr>\n",
       "      <th>1</th>\n",
       "      <td>infect</td>\n",
       "      <td>Salmonella sepsis</td>\n",
       "    </tr>\n",
       "    <tr>\n",
       "      <th>2</th>\n",
       "      <td>enteric_all</td>\n",
       "      <td>Enteroinvasive Escherichia coli infection</td>\n",
       "    </tr>\n",
       "    <tr>\n",
       "      <th>3</th>\n",
       "      <td>enteric_all</td>\n",
       "      <td>Other intestinal Escherichia coli infections</td>\n",
       "    </tr>\n",
       "    <tr>\n",
       "      <th>4</th>\n",
       "      <td>enteric_all</td>\n",
       "      <td>Campylobacter enteritis</td>\n",
       "    </tr>\n",
       "  </tbody>\n",
       "</table>\n",
       "</div>"
      ],
      "text/plain": [
       "       causeid                                     long_desc\n",
       "0   respinfect                Paratyphoid fever, unspecified\n",
       "1       infect                             Salmonella sepsis\n",
       "2  enteric_all     Enteroinvasive Escherichia coli infection\n",
       "3  enteric_all  Other intestinal Escherichia coli infections\n",
       "4  enteric_all                       Campylobacter enteritis"
      ]
     },
     "execution_count": 163,
     "metadata": {},
     "output_type": "execute_result"
    }
   ],
   "source": [
    "df.head()"
   ]
  },
  {
   "cell_type": "markdown",
   "metadata": {},
   "source": [
    "### Text data tokenization"
   ]
  },
  {
   "cell_type": "code",
   "execution_count": 164,
   "metadata": {},
   "outputs": [],
   "source": [
    "df['long_desc'] = df['long_desc'].apply(text_tokenization)\n",
    "df.to_csv('processed-data/tokenized_long_desc.csv', index=False)"
   ]
  },
  {
   "cell_type": "markdown",
   "metadata": {},
   "source": [
    "### Input data and labels definition"
   ]
  },
  {
   "cell_type": "code",
   "execution_count": 165,
   "metadata": {},
   "outputs": [],
   "source": [
    "df = pd.read_csv('processed-data/tokenized_long_desc.csv')\n",
    "X = df['long_desc']\n",
    "y = df['causeid']"
   ]
  },
  {
   "cell_type": "markdown",
   "metadata": {},
   "source": [
    "### Train/Test split"
   ]
  },
  {
   "cell_type": "code",
   "execution_count": 166,
   "metadata": {},
   "outputs": [],
   "source": [
    "X_train, X_test, y_train, y_test = train_test_split(X, y, test_size=0.33, random_state=42)"
   ]
  },
  {
   "cell_type": "markdown",
   "metadata": {},
   "source": [
    "### Fit model to training data"
   ]
  },
  {
   "cell_type": "code",
   "execution_count": 167,
   "metadata": {},
   "outputs": [
    {
     "data": {
      "text/plain": [
       "Pipeline(memory=None,\n",
       "         steps=[('bow',\n",
       "                 CountVectorizer(analyzer='word', binary=False,\n",
       "                                 decode_error='strict',\n",
       "                                 dtype=<class 'numpy.int64'>, encoding='utf-8',\n",
       "                                 input='content', lowercase=True, max_df=1.0,\n",
       "                                 max_features=None, min_df=1,\n",
       "                                 ngram_range=(1, 1), preprocessor=None,\n",
       "                                 stop_words=None, strip_accents=None,\n",
       "                                 token_pattern='(?u)\\\\b\\\\w\\\\w+\\\\b',\n",
       "                                 tokenizer=None, vocabulary=None)),\n",
       "                ('tfidf',\n",
       "                 TfidfTransformer(norm='l2', smooth_idf=True,\n",
       "                                  sublinear_tf=False, use_idf=True)),\n",
       "                ('classifier',\n",
       "                 MultinomialNB(alpha=1.0, class_prior=None, fit_prior=True))],\n",
       "         verbose=False)"
      ]
     },
     "execution_count": 167,
     "metadata": {},
     "output_type": "execute_result"
    }
   ],
   "source": [
    "pipeline1.fit(X_train,y_train)"
   ]
  },
  {
   "cell_type": "markdown",
   "metadata": {},
   "source": [
    "### Model evaluation\n",
    "\n",
    "**Generate predictions.**"
   ]
  },
  {
   "cell_type": "code",
   "execution_count": 168,
   "metadata": {},
   "outputs": [],
   "source": [
    "predictions = pipeline1.predict(X_test)"
   ]
  },
  {
   "cell_type": "markdown",
   "metadata": {},
   "source": [
    "**Evaluate the model using classification report and confusion matrix:**"
   ]
  },
  {
   "cell_type": "code",
   "execution_count": 169,
   "metadata": {},
   "outputs": [
    {
     "name": "stdout",
     "output_type": "stream",
     "text": [
      "\n",
      "CLASSIFICATION REPORT\n",
      "\n",
      "              precision    recall  f1-score   support\n",
      "\n",
      "         cvd       0.85      0.82      0.84        56\n",
      "    diab_ckd       1.00      0.47      0.64        15\n",
      "      digest       0.78      0.73      0.76        49\n",
      "     hiv_std       0.00      0.00      0.00         1\n",
      "      infect       0.57      0.31      0.40        13\n",
      "   inj_trans       0.80      1.00      0.89        32\n",
      "      intent       0.00      0.00      0.00         8\n",
      "mater_neonat       0.92      0.46      0.61        24\n",
      "         msk       0.00      0.00      0.00        11\n",
      "         neo       0.49      0.95      0.65        78\n",
      "       neuro       0.50      0.06      0.10        18\n",
      "   nutrition       0.00      0.00      0.00         3\n",
      "    otherncd       0.60      0.77      0.67        91\n",
      "        resp       0.00      0.00      0.00         9\n",
      "  respinfect       1.00      0.25      0.40         8\n",
      "        skin       0.00      0.00      0.00         7\n",
      "        subs       0.00      0.00      0.00         7\n",
      "    unintent       0.91      0.68      0.78        31\n",
      "\n",
      "    accuracy                           0.66       461\n",
      "   macro avg       0.47      0.36      0.37       461\n",
      "weighted avg       0.64      0.66      0.61       461\n",
      "\n"
     ]
    },
    {
     "name": "stderr",
     "output_type": "stream",
     "text": [
      "c:\\users\\bdour\\appdata\\local\\programs\\python\\python36\\lib\\site-packages\\sklearn\\metrics\\_classification.py:1272: UndefinedMetricWarning: Precision and F-score are ill-defined and being set to 0.0 in labels with no predicted samples. Use `zero_division` parameter to control this behavior.\n",
      "  _warn_prf(average, modifier, msg_start, len(result))\n"
     ]
    }
   ],
   "source": [
    "print('\\nCLASSIFICATION REPORT\\n')\n",
    "print(classification_report(y_test, predictions))"
   ]
  },
  {
   "cell_type": "markdown",
   "metadata": {},
   "source": [
    "**INTERPRETATION**\n",
    "\n",
    "The model did not perform so well on many cause IDs. What if we trained the model with additional information from the 'code', 'sub_chapter' and 'chapter' columns.\n",
    "\n",
    "### Model 2 - Trained using 'code', 'long_desc', 'sub_chapter' and 'chapter' columns"
   ]
  },
  {
   "cell_type": "code",
   "execution_count": 170,
   "metadata": {},
   "outputs": [],
   "source": [
    "df = pd.read_csv('deaths_icd10_descript.csv')\n",
    "\n",
    "df = df.dropna()\n",
    "\n",
    "df = df.drop(df[df['causeid']=='none'].index)"
   ]
  },
  {
   "cell_type": "code",
   "execution_count": 171,
   "metadata": {},
   "outputs": [
    {
     "data": {
      "text/plain": [
       "Index(['code', 'causeid', 'short_desc', 'long_desc', 'three_digit',\n",
       "       'sub_chapter', 'chapter'],\n",
       "      dtype='object')"
      ]
     },
     "execution_count": 171,
     "metadata": {},
     "output_type": "execute_result"
    }
   ],
   "source": [
    "df.columns"
   ]
  },
  {
   "cell_type": "markdown",
   "metadata": {},
   "source": [
    "**Here, we will create a new column where the text of all selected columns will be aggregated.**"
   ]
  },
  {
   "cell_type": "code",
   "execution_count": 172,
   "metadata": {},
   "outputs": [],
   "source": [
    "df['all_text'] = df[['code', 'long_desc', 'sub_chapter', 'chapter']].agg(' '.join, axis=1)\n",
    "df = df[['causeid', 'all_text']]"
   ]
  },
  {
   "cell_type": "code",
   "execution_count": 173,
   "metadata": {},
   "outputs": [
    {
     "data": {
      "text/html": [
       "<div>\n",
       "<style scoped>\n",
       "    .dataframe tbody tr th:only-of-type {\n",
       "        vertical-align: middle;\n",
       "    }\n",
       "\n",
       "    .dataframe tbody tr th {\n",
       "        vertical-align: top;\n",
       "    }\n",
       "\n",
       "    .dataframe thead th {\n",
       "        text-align: right;\n",
       "    }\n",
       "</style>\n",
       "<table border=\"1\" class=\"dataframe\">\n",
       "  <thead>\n",
       "    <tr style=\"text-align: right;\">\n",
       "      <th></th>\n",
       "      <th>causeid</th>\n",
       "      <th>all_text</th>\n",
       "    </tr>\n",
       "  </thead>\n",
       "  <tbody>\n",
       "    <tr>\n",
       "      <th>0</th>\n",
       "      <td>respinfect</td>\n",
       "      <td>A014 Paratyphoid fever, unspecified Intestinal...</td>\n",
       "    </tr>\n",
       "    <tr>\n",
       "      <th>1</th>\n",
       "      <td>infect</td>\n",
       "      <td>A021 Salmonella sepsis Intestinal Infectious D...</td>\n",
       "    </tr>\n",
       "    <tr>\n",
       "      <th>2</th>\n",
       "      <td>enteric_all</td>\n",
       "      <td>A042 Enteroinvasive Escherichia coli infection...</td>\n",
       "    </tr>\n",
       "    <tr>\n",
       "      <th>3</th>\n",
       "      <td>enteric_all</td>\n",
       "      <td>A044 Other intestinal Escherichia coli infecti...</td>\n",
       "    </tr>\n",
       "    <tr>\n",
       "      <th>4</th>\n",
       "      <td>enteric_all</td>\n",
       "      <td>A045 Campylobacter enteritis Intestinal Infect...</td>\n",
       "    </tr>\n",
       "  </tbody>\n",
       "</table>\n",
       "</div>"
      ],
      "text/plain": [
       "       causeid                                           all_text\n",
       "0   respinfect  A014 Paratyphoid fever, unspecified Intestinal...\n",
       "1       infect  A021 Salmonella sepsis Intestinal Infectious D...\n",
       "2  enteric_all  A042 Enteroinvasive Escherichia coli infection...\n",
       "3  enteric_all  A044 Other intestinal Escherichia coli infecti...\n",
       "4  enteric_all  A045 Campylobacter enteritis Intestinal Infect..."
      ]
     },
     "execution_count": 173,
     "metadata": {},
     "output_type": "execute_result"
    }
   ],
   "source": [
    "df.head()"
   ]
  },
  {
   "cell_type": "markdown",
   "metadata": {},
   "source": [
    "**Next, we can apply the same steps as above to pre-process the data, then train and evaluate the model.**"
   ]
  },
  {
   "cell_type": "code",
   "execution_count": 174,
   "metadata": {},
   "outputs": [],
   "source": [
    "df['all_text'] = df['all_text'].apply(text_tokenization)\n",
    "df.to_csv('tokenized_data_all_text.csv', index=False)"
   ]
  },
  {
   "cell_type": "code",
   "execution_count": 175,
   "metadata": {},
   "outputs": [],
   "source": [
    "df = pd.read_csv('processed-data/tokenized_data_all_text.csv')\n",
    "\n",
    "X = df['all_text']\n",
    "y = df['causeid']\n",
    "\n",
    "X_train, X_test, y_train, y_test = train_test_split(X, y, test_size=0.33, random_state=42)"
   ]
  },
  {
   "cell_type": "code",
   "execution_count": 176,
   "metadata": {},
   "outputs": [],
   "source": [
    "pipeline2 = Pipeline([\n",
    "    ('bow', CountVectorizer()),  # strings to token integer counts\n",
    "    ('tfidf', TfidfTransformer()),  # integer counts to weighted TF-IDF scores\n",
    "    ('classifier', MultinomialNB()),  # train on TF-IDF vectors w/ Naive Bayes classifier\n",
    "])"
   ]
  },
  {
   "cell_type": "code",
   "execution_count": 177,
   "metadata": {},
   "outputs": [
    {
     "data": {
      "text/plain": [
       "Pipeline(memory=None,\n",
       "         steps=[('bow',\n",
       "                 CountVectorizer(analyzer='word', binary=False,\n",
       "                                 decode_error='strict',\n",
       "                                 dtype=<class 'numpy.int64'>, encoding='utf-8',\n",
       "                                 input='content', lowercase=True, max_df=1.0,\n",
       "                                 max_features=None, min_df=1,\n",
       "                                 ngram_range=(1, 1), preprocessor=None,\n",
       "                                 stop_words=None, strip_accents=None,\n",
       "                                 token_pattern='(?u)\\\\b\\\\w\\\\w+\\\\b',\n",
       "                                 tokenizer=None, vocabulary=None)),\n",
       "                ('tfidf',\n",
       "                 TfidfTransformer(norm='l2', smooth_idf=True,\n",
       "                                  sublinear_tf=False, use_idf=True)),\n",
       "                ('classifier',\n",
       "                 MultinomialNB(alpha=1.0, class_prior=None, fit_prior=True))],\n",
       "         verbose=False)"
      ]
     },
     "execution_count": 177,
     "metadata": {},
     "output_type": "execute_result"
    }
   ],
   "source": [
    "pipeline2.fit(X_train,y_train)"
   ]
  },
  {
   "cell_type": "code",
   "execution_count": 178,
   "metadata": {},
   "outputs": [],
   "source": [
    "predictions = pipeline2.predict(X_test)"
   ]
  },
  {
   "cell_type": "code",
   "execution_count": 179,
   "metadata": {},
   "outputs": [
    {
     "name": "stdout",
     "output_type": "stream",
     "text": [
      "\n",
      "CLASSIFICATION REPORT\n",
      "\n",
      "              precision    recall  f1-score   support\n",
      "\n",
      "         cvd       0.95      0.96      0.96        56\n",
      "    diab_ckd       1.00      0.20      0.33        15\n",
      "      digest       0.94      0.92      0.93        49\n",
      "     hiv_std       0.00      0.00      0.00         1\n",
      "      infect       0.71      0.77      0.74        13\n",
      "   inj_trans       0.86      1.00      0.93        32\n",
      "      intent       0.00      0.00      0.00         8\n",
      "mater_neonat       0.96      1.00      0.98        24\n",
      "         msk       0.78      0.64      0.70        11\n",
      "         neo       0.89      0.99      0.93        78\n",
      "       neuro       0.79      0.61      0.69        18\n",
      "   nutrition       0.00      0.00      0.00         3\n",
      "    otherncd       0.74      0.98      0.84        91\n",
      "        resp       0.00      0.00      0.00         9\n",
      "  respinfect       1.00      0.12      0.22         8\n",
      "        skin       1.00      0.71      0.83         7\n",
      "        subs       1.00      0.86      0.92         7\n",
      "    unintent       0.88      0.97      0.92        31\n",
      "\n",
      "    accuracy                           0.85       461\n",
      "   macro avg       0.69      0.60      0.61       461\n",
      "weighted avg       0.83      0.85      0.82       461\n",
      "\n"
     ]
    },
    {
     "name": "stderr",
     "output_type": "stream",
     "text": [
      "c:\\users\\bdour\\appdata\\local\\programs\\python\\python36\\lib\\site-packages\\sklearn\\metrics\\_classification.py:1272: UndefinedMetricWarning: Precision and F-score are ill-defined and being set to 0.0 in labels with no predicted samples. Use `zero_division` parameter to control this behavior.\n",
      "  _warn_prf(average, modifier, msg_start, len(result))\n"
     ]
    }
   ],
   "source": [
    "print('\\nCLASSIFICATION REPORT\\n')\n",
    "print(classification_report(y_test, predictions))"
   ]
  },
  {
   "cell_type": "markdown",
   "metadata": {},
   "source": [
    "**INTERPRETATION**\n",
    "\n",
    "The model performed much better, especially on cause IDs that had higher counts."
   ]
  },
  {
   "cell_type": "markdown",
   "metadata": {},
   "source": [
    "## Garbage Codes\n",
    "### Re-train model on complete dataset\n",
    "**Splitting the data between train and test sets was only useful to evaluate the model performance on data that it had not seen. However, if we want to apply that model to new unlabelled data (such as garbage codes) we would benefit from re-training the model using the entire dataset.**"
   ]
  },
  {
   "cell_type": "code",
   "execution_count": 180,
   "metadata": {},
   "outputs": [],
   "source": [
    "df = pd.read_csv('processed-data/tokenized_data_all_text.csv')\n",
    "\n",
    "X = df['all_text']\n",
    "y = df['causeid']"
   ]
  },
  {
   "cell_type": "code",
   "execution_count": 181,
   "metadata": {},
   "outputs": [],
   "source": [
    "pipeline = Pipeline([\n",
    "    ('bow', CountVectorizer()),  # strings to token integer counts\n",
    "    ('tfidf', TfidfTransformer()),  # integer counts to weighted TF-IDF scores\n",
    "    ('classifier', MultinomialNB()),  # train on TF-IDF vectors w/ Naive Bayes classifier\n",
    "])"
   ]
  },
  {
   "cell_type": "code",
   "execution_count": 182,
   "metadata": {},
   "outputs": [
    {
     "data": {
      "text/plain": [
       "Pipeline(memory=None,\n",
       "         steps=[('bow',\n",
       "                 CountVectorizer(analyzer='word', binary=False,\n",
       "                                 decode_error='strict',\n",
       "                                 dtype=<class 'numpy.int64'>, encoding='utf-8',\n",
       "                                 input='content', lowercase=True, max_df=1.0,\n",
       "                                 max_features=None, min_df=1,\n",
       "                                 ngram_range=(1, 1), preprocessor=None,\n",
       "                                 stop_words=None, strip_accents=None,\n",
       "                                 token_pattern='(?u)\\\\b\\\\w\\\\w+\\\\b',\n",
       "                                 tokenizer=None, vocabulary=None)),\n",
       "                ('tfidf',\n",
       "                 TfidfTransformer(norm='l2', smooth_idf=True,\n",
       "                                  sublinear_tf=False, use_idf=True)),\n",
       "                ('classifier',\n",
       "                 MultinomialNB(alpha=1.0, class_prior=None, fit_prior=True))],\n",
       "         verbose=False)"
      ]
     },
     "execution_count": 182,
     "metadata": {},
     "output_type": "execute_result"
    }
   ],
   "source": [
    "pipeline.fit(X,y)"
   ]
  },
  {
   "cell_type": "markdown",
   "metadata": {},
   "source": [
    "### Apply model to predict cause IDs on garbage codes\n",
    "**First, we need to create the same 'all_text' column for the df_garbage dataset.**"
   ]
  },
  {
   "cell_type": "code",
   "execution_count": 183,
   "metadata": {},
   "outputs": [],
   "source": [
    "df_garbage['all_text'] = df_garbage[['code', 'long_desc', 'sub_chapter', 'chapter']].agg(' '.join, axis=1)\n",
    "df = df_garbage[['causeid', 'all_text']]"
   ]
  },
  {
   "cell_type": "code",
   "execution_count": 184,
   "metadata": {},
   "outputs": [
    {
     "data": {
      "text/html": [
       "<div>\n",
       "<style scoped>\n",
       "    .dataframe tbody tr th:only-of-type {\n",
       "        vertical-align: middle;\n",
       "    }\n",
       "\n",
       "    .dataframe tbody tr th {\n",
       "        vertical-align: top;\n",
       "    }\n",
       "\n",
       "    .dataframe thead th {\n",
       "        text-align: right;\n",
       "    }\n",
       "</style>\n",
       "<table border=\"1\" class=\"dataframe\">\n",
       "  <thead>\n",
       "    <tr style=\"text-align: right;\">\n",
       "      <th></th>\n",
       "      <th>causeid</th>\n",
       "      <th>all_text</th>\n",
       "    </tr>\n",
       "  </thead>\n",
       "  <tbody>\n",
       "    <tr>\n",
       "      <th>19</th>\n",
       "      <td>none</td>\n",
       "      <td>A170 Tuberculous meningitis Tuberculosis Certa...</td>\n",
       "    </tr>\n",
       "    <tr>\n",
       "      <th>20</th>\n",
       "      <td>none</td>\n",
       "      <td>A180 Tuberculosis of bones and joints Tubercul...</td>\n",
       "    </tr>\n",
       "    <tr>\n",
       "      <th>26</th>\n",
       "      <td>none</td>\n",
       "      <td>A310 Pulmonary mycobacterial infection Other B...</td>\n",
       "    </tr>\n",
       "    <tr>\n",
       "      <th>27</th>\n",
       "      <td>none</td>\n",
       "      <td>A319 Mycobacterial infection, unspecified Othe...</td>\n",
       "    </tr>\n",
       "    <tr>\n",
       "      <th>30</th>\n",
       "      <td>none</td>\n",
       "      <td>A390 Meningococcal meningitis Other Bacterial ...</td>\n",
       "    </tr>\n",
       "  </tbody>\n",
       "</table>\n",
       "</div>"
      ],
      "text/plain": [
       "   causeid                                           all_text\n",
       "19    none  A170 Tuberculous meningitis Tuberculosis Certa...\n",
       "20    none  A180 Tuberculosis of bones and joints Tubercul...\n",
       "26    none  A310 Pulmonary mycobacterial infection Other B...\n",
       "27    none  A319 Mycobacterial infection, unspecified Othe...\n",
       "30    none  A390 Meningococcal meningitis Other Bacterial ..."
      ]
     },
     "execution_count": 184,
     "metadata": {},
     "output_type": "execute_result"
    }
   ],
   "source": [
    "df.head()"
   ]
  },
  {
   "cell_type": "markdown",
   "metadata": {},
   "source": [
    "**Next, we need to tokenize the garbage data so they can be used to build predictions.**"
   ]
  },
  {
   "cell_type": "code",
   "execution_count": 185,
   "metadata": {},
   "outputs": [
    {
     "name": "stderr",
     "output_type": "stream",
     "text": [
      "c:\\users\\bdour\\appdata\\local\\programs\\python\\python36\\lib\\site-packages\\ipykernel_launcher.py:1: SettingWithCopyWarning: \n",
      "A value is trying to be set on a copy of a slice from a DataFrame.\n",
      "Try using .loc[row_indexer,col_indexer] = value instead\n",
      "\n",
      "See the caveats in the documentation: https://pandas.pydata.org/pandas-docs/stable/user_guide/indexing.html#returning-a-view-versus-a-copy\n",
      "  \"\"\"Entry point for launching an IPython kernel.\n"
     ]
    }
   ],
   "source": [
    "df['all_text'] = df['all_text'].apply(text_tokenization)\n",
    "df.to_csv('processed-data/tokenized_garbage_data_all_text.csv', index=False)"
   ]
  },
  {
   "cell_type": "code",
   "execution_count": 186,
   "metadata": {},
   "outputs": [],
   "source": [
    "df = pd.read_csv('processed-data/tokenized_garbage_data_all_text.csv')\n",
    "X = df['all_text']"
   ]
  },
  {
   "cell_type": "markdown",
   "metadata": {},
   "source": [
    "**Now, let's generate predictions using the model trained on the entire labelled dataset.**"
   ]
  },
  {
   "cell_type": "code",
   "execution_count": 187,
   "metadata": {},
   "outputs": [],
   "source": [
    "predictions = pipeline.predict(X)"
   ]
  },
  {
   "cell_type": "markdown",
   "metadata": {},
   "source": [
    "**Finally, we will create a new dataframe that contains the predicted cause ID for all garbage codes, along with the information that were already provided ('short_desc', 'long_desc', etc.)."
   ]
  },
  {
   "cell_type": "code",
   "execution_count": 188,
   "metadata": {},
   "outputs": [],
   "source": [
    "predicted_garbage = pd.DataFrame(predictions, columns=['predicted_causeid'])\n",
    "df_garbage = df_garbage.reset_index()\n",
    "predicted_garbage = pd.concat([predicted_garbage, df_garbage.drop('causeid', axis=1)], axis=1)\n",
    "predicted_garbage = predicted_garbage.drop('index', axis=1)\n",
    "\n",
    "predicted_garbage.to_csv('processed-data/predicted_garbage_code_causeid.csv', index=False)"
   ]
  },
  {
   "cell_type": "code",
   "execution_count": 189,
   "metadata": {},
   "outputs": [
    {
     "data": {
      "text/html": [
       "<div>\n",
       "<style scoped>\n",
       "    .dataframe tbody tr th:only-of-type {\n",
       "        vertical-align: middle;\n",
       "    }\n",
       "\n",
       "    .dataframe tbody tr th {\n",
       "        vertical-align: top;\n",
       "    }\n",
       "\n",
       "    .dataframe thead th {\n",
       "        text-align: right;\n",
       "    }\n",
       "</style>\n",
       "<table border=\"1\" class=\"dataframe\">\n",
       "  <thead>\n",
       "    <tr style=\"text-align: right;\">\n",
       "      <th></th>\n",
       "      <th>predicted_causeid</th>\n",
       "      <th>code</th>\n",
       "      <th>short_desc</th>\n",
       "      <th>long_desc</th>\n",
       "      <th>three_digit</th>\n",
       "      <th>sub_chapter</th>\n",
       "      <th>chapter</th>\n",
       "      <th>all_text</th>\n",
       "    </tr>\n",
       "  </thead>\n",
       "  <tbody>\n",
       "    <tr>\n",
       "      <th>0</th>\n",
       "      <td>infect</td>\n",
       "      <td>A170</td>\n",
       "      <td>Tuberculous meningitis</td>\n",
       "      <td>Tuberculous meningitis</td>\n",
       "      <td>A17</td>\n",
       "      <td>Tuberculosis</td>\n",
       "      <td>Certain infectious and parasitic diseases</td>\n",
       "      <td>A170 Tuberculous meningitis Tuberculosis Certa...</td>\n",
       "    </tr>\n",
       "    <tr>\n",
       "      <th>1</th>\n",
       "      <td>respinfect</td>\n",
       "      <td>A180</td>\n",
       "      <td>Tuberculosis of bones and joints</td>\n",
       "      <td>Tuberculosis of bones and joints</td>\n",
       "      <td>A18</td>\n",
       "      <td>Tuberculosis</td>\n",
       "      <td>Certain infectious and parasitic diseases</td>\n",
       "      <td>A180 Tuberculosis of bones and joints Tubercul...</td>\n",
       "    </tr>\n",
       "    <tr>\n",
       "      <th>2</th>\n",
       "      <td>infect</td>\n",
       "      <td>A310</td>\n",
       "      <td>Pulmonary mycobacterial infection</td>\n",
       "      <td>Pulmonary mycobacterial infection</td>\n",
       "      <td>A31</td>\n",
       "      <td>Other Bacterial Diseases</td>\n",
       "      <td>Certain infectious and parasitic diseases</td>\n",
       "      <td>A310 Pulmonary mycobacterial infection Other B...</td>\n",
       "    </tr>\n",
       "    <tr>\n",
       "      <th>3</th>\n",
       "      <td>infect</td>\n",
       "      <td>A319</td>\n",
       "      <td>Mycobacterial infection, unspecified</td>\n",
       "      <td>Mycobacterial infection, unspecified</td>\n",
       "      <td>A31</td>\n",
       "      <td>Other Bacterial Diseases</td>\n",
       "      <td>Certain infectious and parasitic diseases</td>\n",
       "      <td>A319 Mycobacterial infection, unspecified Othe...</td>\n",
       "    </tr>\n",
       "    <tr>\n",
       "      <th>4</th>\n",
       "      <td>infect</td>\n",
       "      <td>A390</td>\n",
       "      <td>Meningococcal meningitis</td>\n",
       "      <td>Meningococcal meningitis</td>\n",
       "      <td>A39</td>\n",
       "      <td>Other Bacterial Diseases</td>\n",
       "      <td>Certain infectious and parasitic diseases</td>\n",
       "      <td>A390 Meningococcal meningitis Other Bacterial ...</td>\n",
       "    </tr>\n",
       "  </tbody>\n",
       "</table>\n",
       "</div>"
      ],
      "text/plain": [
       "  predicted_causeid  code                            short_desc  \\\n",
       "0            infect  A170                Tuberculous meningitis   \n",
       "1        respinfect  A180      Tuberculosis of bones and joints   \n",
       "2            infect  A310     Pulmonary mycobacterial infection   \n",
       "3            infect  A319  Mycobacterial infection, unspecified   \n",
       "4            infect  A390              Meningococcal meningitis   \n",
       "\n",
       "                              long_desc three_digit               sub_chapter  \\\n",
       "0                Tuberculous meningitis         A17              Tuberculosis   \n",
       "1      Tuberculosis of bones and joints         A18              Tuberculosis   \n",
       "2     Pulmonary mycobacterial infection         A31  Other Bacterial Diseases   \n",
       "3  Mycobacterial infection, unspecified         A31  Other Bacterial Diseases   \n",
       "4              Meningococcal meningitis         A39  Other Bacterial Diseases   \n",
       "\n",
       "                                     chapter  \\\n",
       "0  Certain infectious and parasitic diseases   \n",
       "1  Certain infectious and parasitic diseases   \n",
       "2  Certain infectious and parasitic diseases   \n",
       "3  Certain infectious and parasitic diseases   \n",
       "4  Certain infectious and parasitic diseases   \n",
       "\n",
       "                                            all_text  \n",
       "0  A170 Tuberculous meningitis Tuberculosis Certa...  \n",
       "1  A180 Tuberculosis of bones and joints Tubercul...  \n",
       "2  A310 Pulmonary mycobacterial infection Other B...  \n",
       "3  A319 Mycobacterial infection, unspecified Othe...  \n",
       "4  A390 Meningococcal meningitis Other Bacterial ...  "
      ]
     },
     "execution_count": 189,
     "metadata": {},
     "output_type": "execute_result"
    }
   ],
   "source": [
    "predicted_garbage.head()"
   ]
  },
  {
   "cell_type": "markdown",
   "metadata": {},
   "source": [
    "___\n",
    "## Conclusion\n",
    "The second model trained on the ICD codes and their description performed well on most of the cause IDs that had larger counts (i.e. more ICD codes associated with them). This kind of modeling approach could largely be improved if more detailed descriptions were specified for each ICD codes.\n",
    "\n",
    "Finally, since all garbage codes do not have a cause ID, the validity of the model when applied to garbage codes can only be determined manually by experts."
   ]
  }
 ],
 "metadata": {
  "kernelspec": {
   "display_name": "Python 3",
   "language": "python",
   "name": "python3"
  },
  "language_info": {
   "codemirror_mode": {
    "name": "ipython",
    "version": 3
   },
   "file_extension": ".py",
   "mimetype": "text/x-python",
   "name": "python",
   "nbconvert_exporter": "python",
   "pygments_lexer": "ipython3",
   "version": "3.6.7"
  }
 },
 "nbformat": 4,
 "nbformat_minor": 4
}
