{
 "cells": [
  {
   "cell_type": "markdown",
   "metadata": {},
   "source": [
    "___\n",
    "\n",
    "<a href='http://www.dourthe.tech'> <img src='Dourthe_Technologies_Headers.png' /></a>\n",
    "___\n",
    "<center><em>For more information, visit <a href='http://www.dourthe.tech'>www.dourthe.tech</a></em></center>"
   ]
  },
  {
   "cell_type": "markdown",
   "metadata": {},
   "source": [
    "\n",
    "# Real vs. Fake News Classification using Natural Language Processing\n",
    "\n",
    "___ \n",
    "## Objective\n",
    "Train a machine learning model to detect Fake and Real news using Natural Language Processing.\n",
    "\n",
    " ___\n",
    "## Dataset\n",
    "Fake and Real news dataset from Kaggle.com\n",
    "\n",
    "Link: https://www.kaggle.com/clmentbisaillon/fake-and-real-news-dataset\n",
    "\n",
    "The dataset contains two CSV files named Fake (Fake News samples) and True (Real News samples). Both CSV files have the same four columns:\n",
    "\n",
    "| Name | Description | Data Type | \n",
    "|:---|:---|:---|\n",
    "| title | Title of the article | _string_ |\n",
    "| text | Text of the article | _string_ |\n",
    "| subject | Subject/Category of the article | _string_ |\n",
    "| date | Date when the article was released | _string_ |"
   ]
  },
  {
   "cell_type": "markdown",
   "metadata": {},
   "source": [
    "___\n",
    "## Libraries Imports\n",
    "### Data manipulation and analysis"
   ]
  },
  {
   "cell_type": "code",
   "execution_count": 1,
   "metadata": {},
   "outputs": [],
   "source": [
    "import pandas as pd\n",
    "import numpy as np"
   ]
  },
  {
   "cell_type": "markdown",
   "metadata": {},
   "source": [
    "### Data visualization"
   ]
  },
  {
   "cell_type": "code",
   "execution_count": 2,
   "metadata": {},
   "outputs": [],
   "source": [
    "import matplotlib.pyplot as plt\n",
    "import seaborn as sns\n",
    "\n",
    "%matplotlib inline"
   ]
  },
  {
   "cell_type": "markdown",
   "metadata": {},
   "source": [
    "### Text processing"
   ]
  },
  {
   "cell_type": "code",
   "execution_count": 3,
   "metadata": {},
   "outputs": [],
   "source": [
    "# For dates conversion to datetime format\n",
    "from dateutil import parser\n",
    "# For punctuation extraction\n",
    "import string\n",
    "# For stopwords (i.e. common words) extraction\n",
    "from nltk.corpus import stopwords"
   ]
  },
  {
   "cell_type": "markdown",
   "metadata": {},
   "source": [
    "### Machine learning"
   ]
  },
  {
   "cell_type": "code",
   "execution_count": 4,
   "metadata": {},
   "outputs": [],
   "source": [
    "# For splitting data between training and test set\n",
    "from sklearn.model_selection import train_test_split\n",
    "\n",
    "# For generating pipelines\n",
    "from sklearn.pipeline import Pipeline\n",
    "\n",
    "# For words vectorization\n",
    "from sklearn.feature_extraction.text import CountVectorizer\n",
    "# For term frequency-inverse document frequency\n",
    "from sklearn.feature_extraction.text import TfidfTransformer\n",
    "# Classification model\n",
    "from sklearn.naive_bayes import MultinomialNB\n",
    "\n",
    "# For model evaluation\n",
    "from sklearn.metrics import confusion_matrix,classification_report"
   ]
  },
  {
   "cell_type": "markdown",
   "metadata": {},
   "source": [
    "___\n",
    "## Data Import"
   ]
  },
  {
   "cell_type": "code",
   "execution_count": 7,
   "metadata": {},
   "outputs": [],
   "source": [
    "true = pd.read_csv('True.csv')\n",
    "fake = pd.read_csv('Fake.csv')"
   ]
  },
  {
   "cell_type": "markdown",
   "metadata": {},
   "source": [
    "___\n",
    "## Exploratory Data Analysis\n",
    "### General"
   ]
  },
  {
   "cell_type": "markdown",
   "metadata": {},
   "source": [
    "**Display the first few rows of each dataset.**"
   ]
  },
  {
   "cell_type": "code",
   "execution_count": 8,
   "metadata": {},
   "outputs": [
    {
     "data": {
      "text/html": [
       "<div>\n",
       "<style scoped>\n",
       "    .dataframe tbody tr th:only-of-type {\n",
       "        vertical-align: middle;\n",
       "    }\n",
       "\n",
       "    .dataframe tbody tr th {\n",
       "        vertical-align: top;\n",
       "    }\n",
       "\n",
       "    .dataframe thead th {\n",
       "        text-align: right;\n",
       "    }\n",
       "</style>\n",
       "<table border=\"1\" class=\"dataframe\">\n",
       "  <thead>\n",
       "    <tr style=\"text-align: right;\">\n",
       "      <th></th>\n",
       "      <th>title</th>\n",
       "      <th>text</th>\n",
       "      <th>subject</th>\n",
       "      <th>date</th>\n",
       "    </tr>\n",
       "  </thead>\n",
       "  <tbody>\n",
       "    <tr>\n",
       "      <th>0</th>\n",
       "      <td>As U.S. budget fight looms, Republicans flip t...</td>\n",
       "      <td>WASHINGTON (Reuters) - The head of a conservat...</td>\n",
       "      <td>politicsNews</td>\n",
       "      <td>December 31, 2017</td>\n",
       "    </tr>\n",
       "    <tr>\n",
       "      <th>1</th>\n",
       "      <td>U.S. military to accept transgender recruits o...</td>\n",
       "      <td>WASHINGTON (Reuters) - Transgender people will...</td>\n",
       "      <td>politicsNews</td>\n",
       "      <td>December 29, 2017</td>\n",
       "    </tr>\n",
       "    <tr>\n",
       "      <th>2</th>\n",
       "      <td>Senior U.S. Republican senator: 'Let Mr. Muell...</td>\n",
       "      <td>WASHINGTON (Reuters) - The special counsel inv...</td>\n",
       "      <td>politicsNews</td>\n",
       "      <td>December 31, 2017</td>\n",
       "    </tr>\n",
       "    <tr>\n",
       "      <th>3</th>\n",
       "      <td>FBI Russia probe helped by Australian diplomat...</td>\n",
       "      <td>WASHINGTON (Reuters) - Trump campaign adviser ...</td>\n",
       "      <td>politicsNews</td>\n",
       "      <td>December 30, 2017</td>\n",
       "    </tr>\n",
       "    <tr>\n",
       "      <th>4</th>\n",
       "      <td>Trump wants Postal Service to charge 'much mor...</td>\n",
       "      <td>SEATTLE/WASHINGTON (Reuters) - President Donal...</td>\n",
       "      <td>politicsNews</td>\n",
       "      <td>December 29, 2017</td>\n",
       "    </tr>\n",
       "  </tbody>\n",
       "</table>\n",
       "</div>"
      ],
      "text/plain": [
       "                                               title  \\\n",
       "0  As U.S. budget fight looms, Republicans flip t...   \n",
       "1  U.S. military to accept transgender recruits o...   \n",
       "2  Senior U.S. Republican senator: 'Let Mr. Muell...   \n",
       "3  FBI Russia probe helped by Australian diplomat...   \n",
       "4  Trump wants Postal Service to charge 'much mor...   \n",
       "\n",
       "                                                text       subject  \\\n",
       "0  WASHINGTON (Reuters) - The head of a conservat...  politicsNews   \n",
       "1  WASHINGTON (Reuters) - Transgender people will...  politicsNews   \n",
       "2  WASHINGTON (Reuters) - The special counsel inv...  politicsNews   \n",
       "3  WASHINGTON (Reuters) - Trump campaign adviser ...  politicsNews   \n",
       "4  SEATTLE/WASHINGTON (Reuters) - President Donal...  politicsNews   \n",
       "\n",
       "                 date  \n",
       "0  December 31, 2017   \n",
       "1  December 29, 2017   \n",
       "2  December 31, 2017   \n",
       "3  December 30, 2017   \n",
       "4  December 29, 2017   "
      ]
     },
     "execution_count": 8,
     "metadata": {},
     "output_type": "execute_result"
    }
   ],
   "source": [
    "true.head()"
   ]
  },
  {
   "cell_type": "code",
   "execution_count": 9,
   "metadata": {},
   "outputs": [
    {
     "data": {
      "text/html": [
       "<div>\n",
       "<style scoped>\n",
       "    .dataframe tbody tr th:only-of-type {\n",
       "        vertical-align: middle;\n",
       "    }\n",
       "\n",
       "    .dataframe tbody tr th {\n",
       "        vertical-align: top;\n",
       "    }\n",
       "\n",
       "    .dataframe thead th {\n",
       "        text-align: right;\n",
       "    }\n",
       "</style>\n",
       "<table border=\"1\" class=\"dataframe\">\n",
       "  <thead>\n",
       "    <tr style=\"text-align: right;\">\n",
       "      <th></th>\n",
       "      <th>title</th>\n",
       "      <th>text</th>\n",
       "      <th>subject</th>\n",
       "      <th>date</th>\n",
       "    </tr>\n",
       "  </thead>\n",
       "  <tbody>\n",
       "    <tr>\n",
       "      <th>0</th>\n",
       "      <td>Donald Trump Sends Out Embarrassing New Year’...</td>\n",
       "      <td>Donald Trump just couldn t wish all Americans ...</td>\n",
       "      <td>News</td>\n",
       "      <td>December 31, 2017</td>\n",
       "    </tr>\n",
       "    <tr>\n",
       "      <th>1</th>\n",
       "      <td>Drunk Bragging Trump Staffer Started Russian ...</td>\n",
       "      <td>House Intelligence Committee Chairman Devin Nu...</td>\n",
       "      <td>News</td>\n",
       "      <td>December 31, 2017</td>\n",
       "    </tr>\n",
       "    <tr>\n",
       "      <th>2</th>\n",
       "      <td>Sheriff David Clarke Becomes An Internet Joke...</td>\n",
       "      <td>On Friday, it was revealed that former Milwauk...</td>\n",
       "      <td>News</td>\n",
       "      <td>December 30, 2017</td>\n",
       "    </tr>\n",
       "    <tr>\n",
       "      <th>3</th>\n",
       "      <td>Trump Is So Obsessed He Even Has Obama’s Name...</td>\n",
       "      <td>On Christmas day, Donald Trump announced that ...</td>\n",
       "      <td>News</td>\n",
       "      <td>December 29, 2017</td>\n",
       "    </tr>\n",
       "    <tr>\n",
       "      <th>4</th>\n",
       "      <td>Pope Francis Just Called Out Donald Trump Dur...</td>\n",
       "      <td>Pope Francis used his annual Christmas Day mes...</td>\n",
       "      <td>News</td>\n",
       "      <td>December 25, 2017</td>\n",
       "    </tr>\n",
       "  </tbody>\n",
       "</table>\n",
       "</div>"
      ],
      "text/plain": [
       "                                               title  \\\n",
       "0   Donald Trump Sends Out Embarrassing New Year’...   \n",
       "1   Drunk Bragging Trump Staffer Started Russian ...   \n",
       "2   Sheriff David Clarke Becomes An Internet Joke...   \n",
       "3   Trump Is So Obsessed He Even Has Obama’s Name...   \n",
       "4   Pope Francis Just Called Out Donald Trump Dur...   \n",
       "\n",
       "                                                text subject  \\\n",
       "0  Donald Trump just couldn t wish all Americans ...    News   \n",
       "1  House Intelligence Committee Chairman Devin Nu...    News   \n",
       "2  On Friday, it was revealed that former Milwauk...    News   \n",
       "3  On Christmas day, Donald Trump announced that ...    News   \n",
       "4  Pope Francis used his annual Christmas Day mes...    News   \n",
       "\n",
       "                date  \n",
       "0  December 31, 2017  \n",
       "1  December 31, 2017  \n",
       "2  December 30, 2017  \n",
       "3  December 29, 2017  \n",
       "4  December 25, 2017  "
      ]
     },
     "execution_count": 9,
     "metadata": {},
     "output_type": "execute_result"
    }
   ],
   "source": [
    "fake.head()"
   ]
  },
  {
   "cell_type": "markdown",
   "metadata": {},
   "source": [
    "**Check for missing data.**"
   ]
  },
  {
   "cell_type": "code",
   "execution_count": 10,
   "metadata": {},
   "outputs": [
    {
     "data": {
      "text/plain": [
       "title      21417\n",
       "text       21417\n",
       "subject    21417\n",
       "date       21417\n",
       "dtype: int64"
      ]
     },
     "execution_count": 10,
     "metadata": {},
     "output_type": "execute_result"
    }
   ],
   "source": [
    "true.count()"
   ]
  },
  {
   "cell_type": "code",
   "execution_count": 11,
   "metadata": {},
   "outputs": [
    {
     "data": {
      "text/plain": [
       "title      23481\n",
       "text       23481\n",
       "subject    23481\n",
       "date       23481\n",
       "dtype: int64"
      ]
     },
     "execution_count": 11,
     "metadata": {},
     "output_type": "execute_result"
    }
   ],
   "source": [
    "fake.count()"
   ]
  },
  {
   "cell_type": "markdown",
   "metadata": {},
   "source": [
    "We can see that the dataset is fairly balanced, as there are comparable amounts of Real News and Fake News.\n",
    "\n",
    "Also, since there is the same number of entries for each column in both datasets, we can assume that there is no missing data (e.g. article with a title but no text or no data)."
   ]
  },
  {
   "cell_type": "markdown",
   "metadata": {},
   "source": [
    "### Datasets concatenation"
   ]
  },
  {
   "cell_type": "markdown",
   "metadata": {},
   "source": [
    "**Create a new column in both datasets called 'label' indicating the label of each article (Real News or Fake News).**"
   ]
  },
  {
   "cell_type": "code",
   "execution_count": 12,
   "metadata": {},
   "outputs": [],
   "source": [
    "true['label'] = 'Real News'\n",
    "fake['label'] = 'Fake News'"
   ]
  },
  {
   "cell_type": "markdown",
   "metadata": {},
   "source": [
    "**Combine/concatenate the two datasets.**"
   ]
  },
  {
   "cell_type": "code",
   "execution_count": 13,
   "metadata": {},
   "outputs": [],
   "source": [
    "data = pd.concat([true, fake], axis=0)"
   ]
  },
  {
   "cell_type": "markdown",
   "metadata": {},
   "source": [
    "**Shuffle the rows of our new dataset to avoid having the first half of the data being all Real News and the second half being all Fake News.**"
   ]
  },
  {
   "cell_type": "code",
   "execution_count": 14,
   "metadata": {},
   "outputs": [],
   "source": [
    "data = data.sample(frac=1).reset_index(drop=True)"
   ]
  },
  {
   "cell_type": "code",
   "execution_count": 15,
   "metadata": {},
   "outputs": [
    {
     "data": {
      "text/html": [
       "<div>\n",
       "<style scoped>\n",
       "    .dataframe tbody tr th:only-of-type {\n",
       "        vertical-align: middle;\n",
       "    }\n",
       "\n",
       "    .dataframe tbody tr th {\n",
       "        vertical-align: top;\n",
       "    }\n",
       "\n",
       "    .dataframe thead th {\n",
       "        text-align: right;\n",
       "    }\n",
       "</style>\n",
       "<table border=\"1\" class=\"dataframe\">\n",
       "  <thead>\n",
       "    <tr style=\"text-align: right;\">\n",
       "      <th></th>\n",
       "      <th>title</th>\n",
       "      <th>text</th>\n",
       "      <th>subject</th>\n",
       "      <th>date</th>\n",
       "      <th>label</th>\n",
       "    </tr>\n",
       "  </thead>\n",
       "  <tbody>\n",
       "    <tr>\n",
       "      <th>0</th>\n",
       "      <td>Fox News Shows REAL REACTION From Demoralized...</td>\n",
       "      <td>The Donald Trump bandwagon is beginning to sho...</td>\n",
       "      <td>News</td>\n",
       "      <td>March 4, 2016</td>\n",
       "      <td>Fake News</td>\n",
       "    </tr>\n",
       "    <tr>\n",
       "      <th>1</th>\n",
       "      <td>TRUMP’S GOT ‘EM ON THE RUN: Rhode Island Suppo...</td>\n",
       "      <td>Donald Trump was in Rhode Island yesterday for...</td>\n",
       "      <td>politics</td>\n",
       "      <td>Apr 26, 2016</td>\n",
       "      <td>Fake News</td>\n",
       "    </tr>\n",
       "    <tr>\n",
       "      <th>2</th>\n",
       "      <td>NYPD Commissioner OBLITERATES Ted Cruz’s ‘Fic...</td>\n",
       "      <td>In an op-ed that puts to rest any notion that ...</td>\n",
       "      <td>News</td>\n",
       "      <td>March 27, 2016</td>\n",
       "      <td>Fake News</td>\n",
       "    </tr>\n",
       "    <tr>\n",
       "      <th>3</th>\n",
       "      <td>Analyst View: Democrat Jones wins Alabama U.S....</td>\n",
       "      <td>NEW YORK (Reuters) - Democrat Doug Jones won a...</td>\n",
       "      <td>politicsNews</td>\n",
       "      <td>December 13, 2017</td>\n",
       "      <td>Real News</td>\n",
       "    </tr>\n",
       "    <tr>\n",
       "      <th>4</th>\n",
       "      <td>Mike Pence Hilariously Claims There’s No Basi...</td>\n",
       "      <td>Indiana Gov. Mike Pence is probably privately ...</td>\n",
       "      <td>News</td>\n",
       "      <td>August 28, 2016</td>\n",
       "      <td>Fake News</td>\n",
       "    </tr>\n",
       "    <tr>\n",
       "      <th>5</th>\n",
       "      <td>After Sex Scandal Allegations, Ted Cruz Unlea...</td>\n",
       "      <td>In the world of politics there are going to be...</td>\n",
       "      <td>News</td>\n",
       "      <td>March 25, 2016</td>\n",
       "      <td>Fake News</td>\n",
       "    </tr>\n",
       "    <tr>\n",
       "      <th>6</th>\n",
       "      <td>House of Representatives reignites gun-control...</td>\n",
       "      <td>WASHINGTON (Reuters) - The Republican-controll...</td>\n",
       "      <td>politicsNews</td>\n",
       "      <td>June 30, 2016</td>\n",
       "      <td>Real News</td>\n",
       "    </tr>\n",
       "    <tr>\n",
       "      <th>7</th>\n",
       "      <td>Exclusive: Democrats Clinton, Sanders promise ...</td>\n",
       "      <td>NEW YORK (Reuters) - Democratic presidential h...</td>\n",
       "      <td>politicsNews</td>\n",
       "      <td>April 4, 2016</td>\n",
       "      <td>Real News</td>\n",
       "    </tr>\n",
       "    <tr>\n",
       "      <th>8</th>\n",
       "      <td>ANGRY CONGRESS SET To Cut Off Funding To U.N…T...</td>\n",
       "      <td>Congress is already setting the stage to cut o...</td>\n",
       "      <td>left-news</td>\n",
       "      <td>Dec 28, 2016</td>\n",
       "      <td>Fake News</td>\n",
       "    </tr>\n",
       "    <tr>\n",
       "      <th>9</th>\n",
       "      <td>LOL! WAIT Till You See Why The Race-Obsessed L...</td>\n",
       "      <td>A black actor s holiday photograph sparked a s...</td>\n",
       "      <td>left-news</td>\n",
       "      <td>Dec 28, 2016</td>\n",
       "      <td>Fake News</td>\n",
       "    </tr>\n",
       "  </tbody>\n",
       "</table>\n",
       "</div>"
      ],
      "text/plain": [
       "                                               title  \\\n",
       "0   Fox News Shows REAL REACTION From Demoralized...   \n",
       "1  TRUMP’S GOT ‘EM ON THE RUN: Rhode Island Suppo...   \n",
       "2   NYPD Commissioner OBLITERATES Ted Cruz’s ‘Fic...   \n",
       "3  Analyst View: Democrat Jones wins Alabama U.S....   \n",
       "4   Mike Pence Hilariously Claims There’s No Basi...   \n",
       "5   After Sex Scandal Allegations, Ted Cruz Unlea...   \n",
       "6  House of Representatives reignites gun-control...   \n",
       "7  Exclusive: Democrats Clinton, Sanders promise ...   \n",
       "8  ANGRY CONGRESS SET To Cut Off Funding To U.N…T...   \n",
       "9  LOL! WAIT Till You See Why The Race-Obsessed L...   \n",
       "\n",
       "                                                text       subject  \\\n",
       "0  The Donald Trump bandwagon is beginning to sho...          News   \n",
       "1  Donald Trump was in Rhode Island yesterday for...      politics   \n",
       "2  In an op-ed that puts to rest any notion that ...          News   \n",
       "3  NEW YORK (Reuters) - Democrat Doug Jones won a...  politicsNews   \n",
       "4  Indiana Gov. Mike Pence is probably privately ...          News   \n",
       "5  In the world of politics there are going to be...          News   \n",
       "6  WASHINGTON (Reuters) - The Republican-controll...  politicsNews   \n",
       "7  NEW YORK (Reuters) - Democratic presidential h...  politicsNews   \n",
       "8  Congress is already setting the stage to cut o...     left-news   \n",
       "9  A black actor s holiday photograph sparked a s...     left-news   \n",
       "\n",
       "                 date      label  \n",
       "0       March 4, 2016  Fake News  \n",
       "1        Apr 26, 2016  Fake News  \n",
       "2      March 27, 2016  Fake News  \n",
       "3  December 13, 2017   Real News  \n",
       "4     August 28, 2016  Fake News  \n",
       "5      March 25, 2016  Fake News  \n",
       "6      June 30, 2016   Real News  \n",
       "7      April 4, 2016   Real News  \n",
       "8        Dec 28, 2016  Fake News  \n",
       "9        Dec 28, 2016  Fake News  "
      ]
     },
     "execution_count": 15,
     "metadata": {},
     "output_type": "execute_result"
    }
   ],
   "source": [
    "data.head(10)"
   ]
  },
  {
   "cell_type": "markdown",
   "metadata": {},
   "source": [
    "### Title and Text feature engineering"
   ]
  },
  {
   "cell_type": "markdown",
   "metadata": {},
   "source": [
    "**Create two new columns indicating the number of words in the 'title' and 'text' columns.**"
   ]
  },
  {
   "cell_type": "code",
   "execution_count": 16,
   "metadata": {},
   "outputs": [],
   "source": [
    "data['title length'] = data['title'].apply(lambda text: int(len(text.split())))\n",
    "data['text length'] = data['text'].apply(lambda text: int(len(text.split())))"
   ]
  },
  {
   "cell_type": "markdown",
   "metadata": {},
   "source": [
    "**Let's look at the text length distributions.**"
   ]
  },
  {
   "cell_type": "code",
   "execution_count": 17,
   "metadata": {},
   "outputs": [
    {
     "data": {
      "image/png": "[encoded data removed]",
      "text/plain": [
       "<Figure size 432x288 with 1 Axes>"
      ]
     },
     "metadata": {
      "needs_background": "light"
     },
     "output_type": "display_data"
    }
   ],
   "source": [
    "data['title length'].plot(kind='hist', bins=30)\n",
    "plt.title('Title length')\n",
    "plt.show()"
   ]
  },
  {
   "cell_type": "code",
   "execution_count": 18,
   "metadata": {},
   "outputs": [
    {
     "data": {
      "text/plain": [
       "count    44898.000000\n",
       "mean        12.453472\n",
       "std          4.111476\n",
       "min          1.000000\n",
       "25%         10.000000\n",
       "50%         11.000000\n",
       "75%         14.000000\n",
       "max         42.000000\n",
       "Name: title length, dtype: float64"
      ]
     },
     "execution_count": 18,
     "metadata": {},
     "output_type": "execute_result"
    }
   ],
   "source": [
    "data['title length'].describe()"
   ]
  },
  {
   "cell_type": "markdown",
   "metadata": {},
   "source": [
    "The title length column appears to have a fairly narrow distribution, with a min count of 1 word and a max of 42."
   ]
  },
  {
   "cell_type": "markdown",
   "metadata": {},
   "source": [
    "**What about the text length distribution?**"
   ]
  },
  {
   "cell_type": "code",
   "execution_count": 19,
   "metadata": {},
   "outputs": [
    {
     "data": {
      "image/png": "[encoded data removed]",
      "text/plain": [
       "<Figure size 432x288 with 1 Axes>"
      ]
     },
     "metadata": {
      "needs_background": "light"
     },
     "output_type": "display_data"
    }
   ],
   "source": [
    "data['text length'].plot(kind='hist', bins=30)\n",
    "plt.title('Text length')\n",
    "plt.show()"
   ]
  },
  {
   "cell_type": "code",
   "execution_count": 20,
   "metadata": {},
   "outputs": [
    {
     "data": {
      "text/plain": [
       "count    44898.000000\n",
       "mean       405.282284\n",
       "std        351.265595\n",
       "min          0.000000\n",
       "25%        203.000000\n",
       "50%        362.000000\n",
       "75%        513.000000\n",
       "max       8135.000000\n",
       "Name: text length, dtype: float64"
      ]
     },
     "execution_count": 20,
     "metadata": {},
     "output_type": "execute_result"
    }
   ],
   "source": [
    "data['text length'].describe()"
   ]
  },
  {
   "cell_type": "markdown",
   "metadata": {},
   "source": [
    "The text length column seems to have a some outliers, where the number of words in the article are above 2000.\n",
    "Let's have a look at how many articles are longer than 2000 words, and what percentage of the total data they represent."
   ]
  },
  {
   "cell_type": "code",
   "execution_count": 21,
   "metadata": {},
   "outputs": [
    {
     "name": "stdout",
     "output_type": "stream",
     "text": [
      "Number of articles with more than 2000 words:  0.49 %\n"
     ]
    }
   ],
   "source": [
    "print('Number of articles with more than 2000 words: ',\n",
    "      np.round(data[data['text length']>2000].count()[0]*100/len(data),2), '%')"
   ]
  },
  {
   "cell_type": "markdown",
   "metadata": {},
   "source": [
    "**To see whether the title or text length columns represent distinguishing features between Real News and Fake News, let's create separate distributions plots:**"
   ]
  },
  {
   "cell_type": "code",
   "execution_count": 22,
   "metadata": {},
   "outputs": [
    {
     "data": {
      "image/png": "[encoded data removed]",
      "text/plain": [
       "<Figure size 864x360 with 2 Axes>"
      ]
     },
     "metadata": {
      "needs_background": "light"
     },
     "output_type": "display_data"
    }
   ],
   "source": [
    "data.hist(column='title length', bins=20, by='label', figsize=(12,5), sharex=True)\n",
    "plt.show()"
   ]
  },
  {
   "cell_type": "code",
   "execution_count": 23,
   "metadata": {},
   "outputs": [
    {
     "data": {
      "image/png": "[encoded data removed]",
      "text/plain": [
       "<Figure size 864x360 with 2 Axes>"
      ]
     },
     "metadata": {
      "needs_background": "light"
     },
     "output_type": "display_data"
    }
   ],
   "source": [
    "data.hist(column='text length', bins=20, by='label', figsize=(12,5), sharex=True)\n",
    "plt.show()"
   ]
  },
  {
   "cell_type": "markdown",
   "metadata": {},
   "source": [
    "#### CONCLUSION\n",
    "The number of words in the title or text of the articles does not seem to be clearly different between Real News and Fake News."
   ]
  },
  {
   "cell_type": "code",
   "execution_count": 24,
   "metadata": {},
   "outputs": [],
   "source": [
    "data.drop(['title length', 'text length'], axis=1, inplace=True)"
   ]
  },
  {
   "cell_type": "markdown",
   "metadata": {},
   "source": [
    "### Subject feature engineering"
   ]
  },
  {
   "cell_type": "markdown",
   "metadata": {},
   "source": [
    "**Check the number of subjects across the entire dataset.**"
   ]
  },
  {
   "cell_type": "code",
   "execution_count": 25,
   "metadata": {},
   "outputs": [
    {
     "data": {
      "text/plain": [
       "8"
      ]
     },
     "execution_count": 25,
     "metadata": {},
     "output_type": "execute_result"
    }
   ],
   "source": [
    "data['subject'].nunique()"
   ]
  },
  {
   "cell_type": "markdown",
   "metadata": {},
   "source": [
    "**Let's explore the distribution of each subject based on the label (Real News or Fake News).**"
   ]
  },
  {
   "cell_type": "code",
   "execution_count": 26,
   "metadata": {},
   "outputs": [
    {
     "data": {
      "image/png": "[encoded data removed]",
      "text/plain": [
       "<Figure size 864x360 with 1 Axes>"
      ]
     },
     "metadata": {
      "needs_background": "light"
     },
     "output_type": "display_data"
    }
   ],
   "source": [
    "plt.figure(figsize=(12,5))\n",
    "sns.countplot('subject', hue='label', data=data, order=data['subject'].value_counts().index, palette='coolwarm')\n",
    "plt.title('Subjects distribution for Real and Fake News')\n",
    "plt.legend(bbox_to_anchor=(1.05, 1), loc=2, borderaxespad=0.)\n",
    "plt.show()"
   ]
  },
  {
   "cell_type": "markdown",
   "metadata": {},
   "source": [
    "This plot indicates that the subjects are completely different between the Real and Fake News, which could create a bias in the machine learning algorithm. Indeed, if we create dummy variables based on the subjects, since there are no subjects including both Real and Fake News, the algorithm would quickly learn how to correctly classify Real and Fake News, but would most likely only learn from the subject, which do not seem to be a clear indication of the actual content of the article.\n",
    "\n",
    "Also, we see similarities between subjects across each category of news (e.g. 'politicsNews' and 'politics').\n",
    "\n",
    "**Let's take a look some examples to better understand the content of each subject.**"
   ]
  },
  {
   "cell_type": "code",
   "execution_count": 27,
   "metadata": {},
   "outputs": [
    {
     "name": "stdout",
     "output_type": "stream",
     "text": [
      "politicsNews\n",
      "\t Analyst View: Democrat Jones wins Alabama U.S. Senate seat in blow to Trump\n",
      "\t House of Representatives reignites gun-control debate with planned vote\n",
      "\t Exclusive: Democrats Clinton, Sanders promise to include Latinos in cabinet\n",
      "\t Senators question Kaleo' $4,500 tag on opioid overdose treatment\n",
      "\t President's son had legitimate reasons to not answer House panel questions: White House\n",
      "worldnews\n",
      "\t EU leaders want clarity on citizens, Brexit financial terms and Ireland\n",
      "\t Memories in milk bottles: Polish exhibition 'shouts out' annihilation story of Warsaw Ghetto\n",
      "\t German minister urges EU to standardize asylum seeker benefits\n",
      "\t France's Macron says world is losing battle against climate change\n",
      "\t UK government averts Brexit rebellion, giving ground on EU rights plan\n",
      "News\n",
      "\t  Fox News Shows REAL REACTION From Demoralized GOP Focus Group Full Of Trump Supporters (VIDEO)\n",
      "\t  NYPD Commissioner OBLITERATES Ted Cruz’s ‘Fictional’ Knowledge Of Counterterrorism\n",
      "\t  Mike Pence Hilariously Claims There’s No Basis For Racism Claims Against Trump (VIDEO)\n",
      "\t  After Sex Scandal Allegations, Ted Cruz Unleashes Colossally Pathetic Hissy Fit On Facebook\n",
      "\t  Sean Hannity Is Throwing A Stage-4 Temper Tantrum Over The Photo He Posed For (IMAGE)\n",
      "politics\n",
      "\t TRUMP’S GOT ‘EM ON THE RUN: Rhode Island Supporters Chase After Trump Caravan [Video]\n",
      "\t BALTIMORE’S OVERZEALOUS PROSECUTOR BUSTED “FAVORITING” RACIST TWEETS [Video]\n",
      "\t LIBERAL HACK KATIE COURIC Says Fake News Is “Tearing [America] Apart”…Doesn’t Mention $12 MILLION Dollar Lawsuit Against Her For Producing Edited Story To Push Gun Control [VIDEO]\n",
      "\t WATCH: G.W. BUSH Gushes Over Kimmel’s Anti-Trump Oscar’s Monologue…Refused To Speak Out Against Obama, It’s Not “good for the country to have a former president undermine a current president”\n",
      "\t BEST REASONS TRUMP Is More Qualified Than Any Presidential Candidate We’ve Had In Decades\n",
      "left-news\n",
      "\t ANGRY CONGRESS SET To Cut Off Funding To U.N…Threatens To Expel Palestinian Diplomats From U.S. Soil After Obama’s Final Assault On Israel\n",
      "\t LOL! WAIT Till You See Why The Race-Obsessed Left Is Attacking “Tyler Perry’s House Of Payne” Actor For Posting This Picture On Social Media\n",
      "\t IMMIGRANT With Soros-Funded Education, Who Earned $1.5 Million Per Year as DC Lawyer, Flees To “Somewhere in Africa” After Wife Is Caught Collecting Over $100,00 In Welfare [VIDEO]\n",
      "\t BLACK CAUCUS MEMBER From Impoverished Detroit District Who’s Leading Effort To Impeach President Trump…CAUGHT Paying Off Sex Assault Victims With Taxpayer Money\n",
      "\t PROMINENT DEMOCRAT CLAIMS Old, White, Leftist Males Are Waiting In The Wings For Hillary To Fall\n",
      "Government News\n",
      "\t POLITICAL HACK LORETTA LYNCH Called Out By Dr. Ben Carson On NC “Bathroom” Law [Video]\n",
      "\t SOLYNDRA ON WHEELS: THOUSANDS OF CHEVY VOLTS SIT UNSOLD\n",
      "\t BERNIE’S WORLD: SOCIALISM Forces Venezuelans to Eat Dogs, Cats And Birds, “We are hungry”\n",
      "\t BREAKING UDATE: IRAN CONFIRMS $1.7 BILLION Was RANSOM Payment For Prisoners And NOT Part Of “Nuclear Deal” ORIGINAL STORY: OBAMA AND KERRY Agree To Give Iran $1.7 BILLION U.S. Taxpayer Dollars As “Settlement”\n",
      "\t (VIDEO) BUSTED! YOU’LL NEVER BELIEVE WHO ELSE TOLD THE COPS IN BALTIMORE TO “BACK OFF”\n",
      "US_News\n",
      "\t Tax March: Where Were You as Obama Wrecked Libya?\n",
      "\t US Media Hyped ‘Active Shooter’ Drill at Andrews Base As Real Event\n",
      "\t Philosopher Slavoj Žižek: ‘The American Left Lacks Authenticity’\n",
      "\t A POEM: ‘Twas The Night Before CNN’s Christmas…’\n",
      "\t DC Women’s March Aftermath: Streets Littered With Trash\n",
      "Middle-east\n",
      "\t Plastic Persona: Behind the Scenes of the Ted Cruz Media Machine\n",
      "\t Boiler Room EP #70 – Sticks, Stones & The Media Hammer\n",
      "\t Trump Announces Transgender Ban for US Military, Caitlyn Jenner Slighted\n",
      "\t 2016 Election: The Political Elite Establishment vs. Social Justice?\n",
      "\t SUNDAY SCREENING: The Deep State: Hiding in Plain Sight (2014)\n"
     ]
    }
   ],
   "source": [
    "for sub in data['subject'].value_counts().index:\n",
    "    print(sub)\n",
    "    for row in range(5):\n",
    "        print('\\t', data[data['subject']==sub]['title'].iloc[row])"
   ]
  },
  {
   "cell_type": "markdown",
   "metadata": {},
   "source": [
    "Before dropping the subject column completely, let's try to combine some of these subjects based on their similarities.\n",
    "\n",
    "We should also consider what subjects only appear as Real or Fake News to try and create better balance.\n",
    "\n",
    "**New subjects suggestions:**\n",
    "\n",
    "| New subject name | Previous subjects names to combine |\n",
    "| :--- | :--- |\n",
    "| _politics_ | 'politicsNews', 'politics', 'left-news' |\n",
    "| _world_news_ | 'News', 'Government News', 'US_News', 'worldnews', 'Middle-east' |"
   ]
  },
  {
   "cell_type": "code",
   "execution_count": 28,
   "metadata": {},
   "outputs": [],
   "source": [
    "data['subject'] = data['subject'].apply(lambda sub: 'politics' if sub in ['politicsNews', 'politics', 'left-news'] \n",
    "                                        else 'world_news')"
   ]
  },
  {
   "cell_type": "markdown",
   "metadata": {},
   "source": [
    "**We can now re-plot the distribution plot:**"
   ]
  },
  {
   "cell_type": "code",
   "execution_count": 29,
   "metadata": {},
   "outputs": [
    {
     "data": {
      "image/png": "[encoded data removed]",
      "text/plain": [
       "<Figure size 432x360 with 1 Axes>"
      ]
     },
     "metadata": {
      "needs_background": "light"
     },
     "output_type": "display_data"
    }
   ],
   "source": [
    "plt.figure(figsize=(6,5))\n",
    "sns.countplot('subject', hue='label', data=data, order=data['subject'].value_counts().index, palette='coolwarm')\n",
    "plt.title('Subjects distribution for Real and Fake News')\n",
    "plt.legend(bbox_to_anchor=(1.05, 1), loc=2, borderaxespad=0.)\n",
    "plt.show()"
   ]
  },
  {
   "cell_type": "markdown",
   "metadata": {},
   "source": [
    "**CONCLUSION**\n",
    "\n",
    "No clear pattern seem to be coming out of the subject column, which can therefore be dropped."
   ]
  },
  {
   "cell_type": "code",
   "execution_count": 30,
   "metadata": {},
   "outputs": [],
   "source": [
    "data.drop('subject', axis=1, inplace=True)"
   ]
  },
  {
   "cell_type": "markdown",
   "metadata": {},
   "source": [
    "### Date feature engineering\n",
    "\n",
    "**We can start by looking at the number and distribution of unique entries in the date column.**"
   ]
  },
  {
   "cell_type": "code",
   "execution_count": 31,
   "metadata": {},
   "outputs": [
    {
     "data": {
      "text/plain": [
       "2397"
      ]
     },
     "execution_count": 31,
     "metadata": {},
     "output_type": "execute_result"
    }
   ],
   "source": [
    "data['date'].nunique()"
   ]
  },
  {
   "cell_type": "code",
   "execution_count": 32,
   "metadata": {},
   "outputs": [
    {
     "data": {
      "text/plain": [
       "December 20, 2017                                                                                                                                        182\n",
       "December 6, 2017                                                                                                                                         166\n",
       "November 30, 2017                                                                                                                                        162\n",
       "November 9, 2017                                                                                                                                         158\n",
       "October 13, 2017                                                                                                                                         155\n",
       "September 21, 2017                                                                                                                                       153\n",
       "December 21, 2017                                                                                                                                        151\n",
       "September 6, 2017                                                                                                                                        151\n",
       "September 7, 2017                                                                                                                                        149\n",
       "September 22, 2017                                                                                                                                       146\n",
       "October 19, 2017                                                                                                                                         145\n",
       "September 12, 2017                                                                                                                                       143\n",
       "November 8, 2017                                                                                                                                         143\n",
       "October 26, 2017                                                                                                                                         142\n",
       "October 18, 2017                                                                                                                                         142\n",
       "October 16, 2017                                                                                                                                         141\n",
       "September 15, 2017                                                                                                                                       141\n",
       "December 7, 2017                                                                                                                                         140\n",
       "October 24, 2017                                                                                                                                         139\n",
       "October 12, 2017                                                                                                                                         137\n",
       "October 25, 2017                                                                                                                                         136\n",
       "September 26, 2017                                                                                                                                       136\n",
       "December 8, 2017                                                                                                                                         134\n",
       "November 29, 2017                                                                                                                                        134\n",
       "December 14, 2017                                                                                                                                        133\n",
       "December 5, 2017                                                                                                                                         131\n",
       "September 14, 2017                                                                                                                                       131\n",
       "November 21, 2017                                                                                                                                        129\n",
       "November 2, 2017                                                                                                                                         128\n",
       "November 1, 2017                                                                                                                                         127\n",
       "                                                                                                                                                        ... \n",
       "December 30, 2017                                                                                                                                          1\n",
       "May 22, 2016                                                                                                                                               1\n",
       "August 6, 2016                                                                                                                                             1\n",
       "August 21, 2016                                                                                                                                            1\n",
       "November 20, 2017                                                                                                                                          1\n",
       "December 19, 2017                                                                                                                                          1\n",
       "October 22, 2017                                                                                                                                           1\n",
       "Apr 2, 2015                                                                                                                                                1\n",
       "Jul 18, 2015                                                                                                                                               1\n",
       "December 22, 2017                                                                                                                                          1\n",
       "MSNBC HOST Rudely Assumes Steel Worker Would Never Let His Son Follow in His Footsteps…He Couldn’t Be More Wrong [Video]                                   1\n",
       "November 12, 2017                                                                                                                                          1\n",
       "November 19, 2017                                                                                                                                          1\n",
       "December 9, 2017                                                                                                                                           1\n",
       "September 11, 2016                                                                                                                                         1\n",
       "December 4, 2017                                                                                                                                           1\n",
       "January 24, 2016                                                                                                                                           1\n",
       "https://100percentfedup.com/video-hillary-asked-about-trump-i-just-want-to-eat-some-pie/                                                                   1\n",
       "December 11, 2017                                                                                                                                          1\n",
       "June 24, 2017                                                                                                                                              1\n",
       "September 3, 2016                                                                                                                                          1\n",
       "October 9, 2017                                                                                                                                            1\n",
       "Jun 21, 2015                                                                                                                                               1\n",
       "December 25, 2016                                                                                                                                          1\n",
       "Jun 7, 2015                                                                                                                                                1\n",
       "May 28, 2016                                                                                                                                               1\n",
       "May 30, 2016                                                                                                                                               1\n",
       "Jul 19, 2015                                                                                                                                               1\n",
       "https://100percentfedup.com/12-yr-old-black-conservative-whose-video-to-obama-went-viral-do-you-really-love-america-receives-death-threats-from-left/      1\n",
       "May 14, 2016                                                                                                                                               1\n",
       "Name: date, Length: 2397, dtype: int64"
      ]
     },
     "execution_count": 32,
     "metadata": {},
     "output_type": "execute_result"
    }
   ],
   "source": [
    "data['date'].value_counts()"
   ]
  },
  {
   "cell_type": "markdown",
   "metadata": {},
   "source": [
    "We see that there are too many unique date entries.\n",
    "\n",
    "Also, some date values are not dates and should be removed.\n",
    "\n",
    "**Let's replace entries that are longer than 20 characters:**"
   ]
  },
  {
   "cell_type": "code",
   "execution_count": 33,
   "metadata": {},
   "outputs": [],
   "source": [
    "data['date'] = data['date'].apply(lambda date: np.nan if len(date) > 20 else date)"
   ]
  },
  {
   "cell_type": "code",
   "execution_count": 34,
   "metadata": {},
   "outputs": [],
   "source": [
    "data.dropna(axis=0, inplace=True)"
   ]
  },
  {
   "cell_type": "markdown",
   "metadata": {},
   "source": [
    "**Now we can create two new columns called 'month' and 'year' by converting all string dates into datetime objects and extracting the corresponding features.**"
   ]
  },
  {
   "cell_type": "code",
   "execution_count": 35,
   "metadata": {},
   "outputs": [],
   "source": [
    "from dateutil import parser\n",
    "\n",
    "data['month'] = data['date'].apply(lambda date: parser.parse(date).month)\n",
    "data['year'] = data['date'].apply(lambda date: parser.parse(date).year)"
   ]
  },
  {
   "cell_type": "markdown",
   "metadata": {},
   "source": [
    "**Let's look at the month and year columns distribution based on label:**"
   ]
  },
  {
   "cell_type": "code",
   "execution_count": 36,
   "metadata": {},
   "outputs": [
    {
     "data": {
      "image/png": "[encoded data removed]",
      "text/plain": [
       "<Figure size 864x360 with 1 Axes>"
      ]
     },
     "metadata": {
      "needs_background": "light"
     },
     "output_type": "display_data"
    }
   ],
   "source": [
    "plt.figure(figsize=(12,5))\n",
    "sns.countplot('month', data=data, hue='label', palette='coolwarm')\n",
    "plt.title('Number of articles published each month basel on label')\n",
    "plt.show()"
   ]
  },
  {
   "cell_type": "code",
   "execution_count": 37,
   "metadata": {},
   "outputs": [
    {
     "data": {
      "image/png": "[encoded data removed]",
      "text/plain": [
       "<Figure size 864x360 with 1 Axes>"
      ]
     },
     "metadata": {
      "needs_background": "light"
     },
     "output_type": "display_data"
    }
   ],
   "source": [
    "plt.figure(figsize=(12,5))\n",
    "sns.countplot('year', data=data, hue='label', palette='coolwarm')\n",
    "plt.title('Number of articles published each year basel on label')\n",
    "plt.show()"
   ]
  },
  {
   "cell_type": "markdown",
   "metadata": {},
   "source": [
    "**CONCLUSION**\n",
    "\n",
    "The number of Real News articles seem to be fairly constant across months, while there is a clear increase in number of Fake News articles published from September to December.\n",
    "\n",
    "In addition, the number of Fake News articles seem to be increasing from 2016 to 2017.\n",
    "\n",
    "The month and year column seem interesting and could be used as potential distinguishing features."
   ]
  },
  {
   "cell_type": "markdown",
   "metadata": {},
   "source": [
    "___\n",
    "## Data Pre-processing\n",
    "\n",
    "### Dummy variables\n",
    "\n",
    "**Since we created a 'month' and a 'year' column (in numerical format), the 'date' column is no longer needed.**"
   ]
  },
  {
   "cell_type": "code",
   "execution_count": 38,
   "metadata": {},
   "outputs": [],
   "source": [
    "data.drop('date', axis=1, inplace=True)"
   ]
  },
  {
   "cell_type": "markdown",
   "metadata": {},
   "source": [
    "**We can generate dummy variables using the get_dummies function from the pandas library.**"
   ]
  },
  {
   "cell_type": "code",
   "execution_count": 39,
   "metadata": {},
   "outputs": [],
   "source": [
    "dum_month = pd.get_dummies(data['month'], drop_first=True)\n",
    "dum_year = pd.get_dummies(data['year'], drop_first=True)\n",
    "\n",
    "data = pd.concat([data, dum_month, dum_year], axis=1).drop(['month', 'year'], axis=1)"
   ]
  },
  {
   "cell_type": "markdown",
   "metadata": {},
   "source": [
    "### Data tokenization - convertion to bag-of-words\n",
    "\n",
    "**This operation consists of converting a text in string format to a list of words (bag-of-words) where each word is considered as a token.**\n",
    "\n",
    "This operation can be done in many ways, but here we will simply create a function that:\n",
    "\n",
    "1. Remove all punctuation characters from all string text\n",
    "2. Remove all stop words (i.e. most common words in the English language, as they could be present in all sample and may not contribute to any form of differentiation)"
   ]
  },
  {
   "cell_type": "code",
   "execution_count": 40,
   "metadata": {},
   "outputs": [],
   "source": [
    "def text_tokenization(text):\n",
    "    '''\n",
    "    Remove punctuation and stopwords (i.e. common words) from a text (in string format)\n",
    "    and returns a list of words from the cleaned text.\n",
    "    Input:\n",
    "        text: text in string format\n",
    "    Output:\n",
    "        cleaned_text: list of words (tokens) from the corresponding text, free of punctuation and stopwords\n",
    "    '''\n",
    "    # Remove all punctuation from text by looking at each character\n",
    "    text_no_punc = [char for char in text if char not in string.punctuation]\n",
    "\n",
    "    # Re-join all characters to re-form a string\n",
    "    text_no_punc = ''.join(text_no_punc)\n",
    "    \n",
    "    # Remove all stopwords\n",
    "    cleaned_text = [word for word in text_no_punc.split() if word.lower() not in stopwords.words('english')]\n",
    "    \n",
    "    return cleaned_text"
   ]
  },
  {
   "cell_type": "markdown",
   "metadata": {},
   "source": [
    "**The function can now be applied to the 'title' and 'text' columns.**\n",
    "\n",
    "_Warning: this operation is computationally expensive and can take a while to run! Feel free to import the pre-processed/tonekized data to avoid this time-consuming operation._"
   ]
  },
  {
   "cell_type": "code",
   "execution_count": 41,
   "metadata": {},
   "outputs": [],
   "source": [
    "# If code ran for the first time, otherwise comment on the next two lines and simply import the pre-processed/tonekized data\n",
    "# data['title'] = data['title'].apply(text_tokenization)\n",
    "# data['text'] = data['text'].apply(text_tokenization)\n",
    "\n",
    "data = pd.read_csv('processed_tokenized_data.csv')"
   ]
  },
  {
   "cell_type": "code",
   "execution_count": 42,
   "metadata": {},
   "outputs": [
    {
     "data": {
      "text/html": [
       "<div>\n",
       "<style scoped>\n",
       "    .dataframe tbody tr th:only-of-type {\n",
       "        vertical-align: middle;\n",
       "    }\n",
       "\n",
       "    .dataframe tbody tr th {\n",
       "        vertical-align: top;\n",
       "    }\n",
       "\n",
       "    .dataframe thead th {\n",
       "        text-align: right;\n",
       "    }\n",
       "</style>\n",
       "<table border=\"1\" class=\"dataframe\">\n",
       "  <thead>\n",
       "    <tr style=\"text-align: right;\">\n",
       "      <th></th>\n",
       "      <th>title</th>\n",
       "      <th>text</th>\n",
       "      <th>label</th>\n",
       "      <th>2</th>\n",
       "      <th>3</th>\n",
       "      <th>4</th>\n",
       "      <th>5</th>\n",
       "      <th>6</th>\n",
       "      <th>7</th>\n",
       "      <th>8</th>\n",
       "      <th>9</th>\n",
       "      <th>10</th>\n",
       "      <th>11</th>\n",
       "      <th>12</th>\n",
       "      <th>2016</th>\n",
       "      <th>2017</th>\n",
       "      <th>2018</th>\n",
       "    </tr>\n",
       "  </thead>\n",
       "  <tbody>\n",
       "    <tr>\n",
       "      <th>0</th>\n",
       "      <td>['TALENTED', 'HILLARY', 'CLINTON', 'TALKS', 'D...</td>\n",
       "      <td>['forgot', 'claim', 'Hillary', 'Clinton', 'act...</td>\n",
       "      <td>Fake News</td>\n",
       "      <td>0</td>\n",
       "      <td>0</td>\n",
       "      <td>0</td>\n",
       "      <td>0</td>\n",
       "      <td>0</td>\n",
       "      <td>1</td>\n",
       "      <td>0</td>\n",
       "      <td>0</td>\n",
       "      <td>0</td>\n",
       "      <td>0</td>\n",
       "      <td>0</td>\n",
       "      <td>0</td>\n",
       "      <td>0</td>\n",
       "      <td>0</td>\n",
       "    </tr>\n",
       "    <tr>\n",
       "      <th>1</th>\n",
       "      <td>['TREASON', 'White', 'House', 'Says', 'It’s', ...</td>\n",
       "      <td>['anyone', 'please', 'explain', 'US', 'got', '...</td>\n",
       "      <td>Fake News</td>\n",
       "      <td>0</td>\n",
       "      <td>0</td>\n",
       "      <td>0</td>\n",
       "      <td>0</td>\n",
       "      <td>0</td>\n",
       "      <td>0</td>\n",
       "      <td>0</td>\n",
       "      <td>0</td>\n",
       "      <td>0</td>\n",
       "      <td>0</td>\n",
       "      <td>0</td>\n",
       "      <td>1</td>\n",
       "      <td>0</td>\n",
       "      <td>0</td>\n",
       "    </tr>\n",
       "    <tr>\n",
       "      <th>2</th>\n",
       "      <td>['32', 'Million', 'Uninsured', 'Premiums', 'Do...</td>\n",
       "      <td>['new', 'report', 'released', 'Congressional',...</td>\n",
       "      <td>Fake News</td>\n",
       "      <td>0</td>\n",
       "      <td>0</td>\n",
       "      <td>0</td>\n",
       "      <td>0</td>\n",
       "      <td>0</td>\n",
       "      <td>1</td>\n",
       "      <td>0</td>\n",
       "      <td>0</td>\n",
       "      <td>0</td>\n",
       "      <td>0</td>\n",
       "      <td>0</td>\n",
       "      <td>0</td>\n",
       "      <td>1</td>\n",
       "      <td>0</td>\n",
       "    </tr>\n",
       "    <tr>\n",
       "      <th>3</th>\n",
       "      <td>['Democrat', 'Mayor', 'Proclaims', 'He’s', 'Ba...</td>\n",
       "      <td>['breathe', 'sigh', 'relief', 'knowing', 'reas...</td>\n",
       "      <td>Fake News</td>\n",
       "      <td>0</td>\n",
       "      <td>0</td>\n",
       "      <td>0</td>\n",
       "      <td>0</td>\n",
       "      <td>0</td>\n",
       "      <td>0</td>\n",
       "      <td>0</td>\n",
       "      <td>0</td>\n",
       "      <td>0</td>\n",
       "      <td>0</td>\n",
       "      <td>1</td>\n",
       "      <td>0</td>\n",
       "      <td>0</td>\n",
       "      <td>0</td>\n",
       "    </tr>\n",
       "    <tr>\n",
       "      <th>4</th>\n",
       "      <td>['Samantha', 'Bee', 'Tells', 'Ted', 'Cruz', 'S...</td>\n",
       "      <td>['Coming', 'Tuesday', 'Republican', 'primary',...</td>\n",
       "      <td>Fake News</td>\n",
       "      <td>0</td>\n",
       "      <td>0</td>\n",
       "      <td>0</td>\n",
       "      <td>1</td>\n",
       "      <td>0</td>\n",
       "      <td>0</td>\n",
       "      <td>0</td>\n",
       "      <td>0</td>\n",
       "      <td>0</td>\n",
       "      <td>0</td>\n",
       "      <td>0</td>\n",
       "      <td>1</td>\n",
       "      <td>0</td>\n",
       "      <td>0</td>\n",
       "    </tr>\n",
       "  </tbody>\n",
       "</table>\n",
       "</div>"
      ],
      "text/plain": [
       "                                               title  \\\n",
       "0  ['TALENTED', 'HILLARY', 'CLINTON', 'TALKS', 'D...   \n",
       "1  ['TREASON', 'White', 'House', 'Says', 'It’s', ...   \n",
       "2  ['32', 'Million', 'Uninsured', 'Premiums', 'Do...   \n",
       "3  ['Democrat', 'Mayor', 'Proclaims', 'He’s', 'Ba...   \n",
       "4  ['Samantha', 'Bee', 'Tells', 'Ted', 'Cruz', 'S...   \n",
       "\n",
       "                                                text      label  2  3  4  5  \\\n",
       "0  ['forgot', 'claim', 'Hillary', 'Clinton', 'act...  Fake News  0  0  0  0   \n",
       "1  ['anyone', 'please', 'explain', 'US', 'got', '...  Fake News  0  0  0  0   \n",
       "2  ['new', 'report', 'released', 'Congressional',...  Fake News  0  0  0  0   \n",
       "3  ['breathe', 'sigh', 'relief', 'knowing', 'reas...  Fake News  0  0  0  0   \n",
       "4  ['Coming', 'Tuesday', 'Republican', 'primary',...  Fake News  0  0  0  1   \n",
       "\n",
       "   6  7  8  9  10  11  12  2016  2017  2018  \n",
       "0  0  1  0  0   0   0   0     0     0     0  \n",
       "1  0  0  0  0   0   0   0     1     0     0  \n",
       "2  0  1  0  0   0   0   0     0     1     0  \n",
       "3  0  0  0  0   0   0   1     0     0     0  \n",
       "4  0  0  0  0   0   0   0     1     0     0  "
      ]
     },
     "execution_count": 42,
     "metadata": {},
     "output_type": "execute_result"
    }
   ],
   "source": [
    "data.head()"
   ]
  },
  {
   "cell_type": "markdown",
   "metadata": {},
   "source": [
    "**Since the text tokenization take a long time to process, we can save the pre-processed and tokenized data into a csv file:**"
   ]
  },
  {
   "cell_type": "code",
   "execution_count": 162,
   "metadata": {},
   "outputs": [],
   "source": [
    "data.to_csv('processed_tokenized_data.csv', index=False)"
   ]
  },
  {
   "cell_type": "markdown",
   "metadata": {},
   "source": [
    "### Vectorization\n",
    "\n",
    "At this stage, all text data (from 'title' and 'text' columns) are represented by lists of tokens (also named _lemmas_), which require to be converted to some form of numerical vector in order to be processed by a machine learning algorithm.\n",
    "\n",
    "This operation is called **Vectorization** and can be done using the _CountVectorizer_ tool from SciKit Learn, which will convert our lists of tokens into a (mxn) matrix of tokens counts as illustrated below:\n",
    "\n",
    "| Entire vocabulary | Text 1 | Text 2 | ... | Text N |\n",
    "|:---|:---:|:---:|:---:|:---:|\n",
    "|Word 1 count | 1 | 0 | ... | 1 |\n",
    "|Word 2 count | 0 | 1 | ... | 0 |\n",
    "| ... | ... | ... | ... | ... |\n",
    "| Word i count | 0 | 2 | ... | 0 |\n",
    "| ... | ... | ... | ... | ... |\n",
    "|Word M count | 1 | 0 | ... | 3 |\n",
    "\n",
    "**Note:** Since this transformation usually results in a lot of zeros (as many text samples won't have a lot of words from the entire vocabulary), the _CountVectorizer_ tool from SciKit Learn will output a _Sparse Matrix_."
   ]
  },
  {
   "cell_type": "markdown",
   "metadata": {},
   "source": [
    "### Term frequency-inverse document frequency (TD-IDF) weights calculation\n",
    "\n",
    "TD-IDF weight is a statistical measure used to evaluate how important a term/word is to a text/document in a collection or corpus (i.e. dataset). It is calculated as followed:\n",
    "\n",
    "**1. Term frequency (TD):**\n",
    "\n",
    "    TD(T) = ( Total counts of term T in a given document ) / ( Total number of terms in the same document )\n",
    "\n",
    "\n",
    "**2. Inverse document frequency (IDF), which measures how import a term/word is based on how often it appears in the whole datatset (all texts/documents):**\n",
    "\n",
    "    IDF(T) = log_e ( Total number of documents / Number of documents that have term T in them)\n",
    "\n",
    "**TD-IDF = TD x IDF**"
   ]
  },
  {
   "cell_type": "markdown",
   "metadata": {},
   "source": [
    "___\n",
    "## Machine Learning"
   ]
  },
  {
   "cell_type": "markdown",
   "metadata": {},
   "source": [
    "### Pipeline definition\n",
    "**Create a pipeline that will:**\n",
    "1. Vectorize the data\n",
    "2. Calculate the TD-IDF weight of each word\n",
    "3. Define the type of classifier for the machine learning algorithm\n",
    "\n",
    "In terms of classifier, [Naive Bayes models](http://www.inf.ed.ac.uk/teaching/courses/inf2b/learnnotes/inf2b-learn-note07-2up.pdf) models have been shown to perform quite well on text data. Therefore, we will use the _MultinomialNB_ model from SciKit Learn."
   ]
  },
  {
   "cell_type": "code",
   "execution_count": 43,
   "metadata": {},
   "outputs": [],
   "source": [
    "pipeline = Pipeline([\n",
    "    ('bow', CountVectorizer()),  # strings to token integer counts\n",
    "    ('tfidf', TfidfTransformer()),  # integer counts to weighted TF-IDF scores\n",
    "    ('classifier', MultinomialNB()),  # train on TF-IDF vectors w/ Naive Bayes classifier\n",
    "])"
   ]
  },
  {
   "cell_type": "markdown",
   "metadata": {},
   "source": [
    "### Input data and labels definition\n",
    "\n",
    "**We will start by only including the 'title' column as input.**"
   ]
  },
  {
   "cell_type": "code",
   "execution_count": 44,
   "metadata": {},
   "outputs": [],
   "source": [
    "X = data['title']\n",
    "y = data['label']"
   ]
  },
  {
   "cell_type": "markdown",
   "metadata": {},
   "source": [
    "**Split the data into training and test sets:**"
   ]
  },
  {
   "cell_type": "code",
   "execution_count": 45,
   "metadata": {},
   "outputs": [],
   "source": [
    "X_train, X_test, y_train, y_test = train_test_split(X, y, test_size=0.3,random_state=42)"
   ]
  },
  {
   "cell_type": "markdown",
   "metadata": {},
   "source": [
    "### Run pipeline and fit model to training data"
   ]
  },
  {
   "cell_type": "code",
   "execution_count": 46,
   "metadata": {},
   "outputs": [
    {
     "data": {
      "text/plain": [
       "Pipeline(memory=None,\n",
       "         steps=[('bow',\n",
       "                 CountVectorizer(analyzer='word', binary=False,\n",
       "                                 decode_error='strict',\n",
       "                                 dtype=<class 'numpy.int64'>, encoding='utf-8',\n",
       "                                 input='content', lowercase=True, max_df=1.0,\n",
       "                                 max_features=None, min_df=1,\n",
       "                                 ngram_range=(1, 1), preprocessor=None,\n",
       "                                 stop_words=None, strip_accents=None,\n",
       "                                 token_pattern='(?u)\\\\b\\\\w\\\\w+\\\\b',\n",
       "                                 tokenizer=None, vocabulary=None)),\n",
       "                ('tfidf',\n",
       "                 TfidfTransformer(norm='l2', smooth_idf=True,\n",
       "                                  sublinear_tf=False, use_idf=True)),\n",
       "                ('classifier',\n",
       "                 MultinomialNB(alpha=1.0, class_prior=None, fit_prior=True))],\n",
       "         verbose=False)"
      ]
     },
     "execution_count": 46,
     "metadata": {},
     "output_type": "execute_result"
    }
   ],
   "source": [
    "pipeline.fit(X_train,y_train)"
   ]
  },
  {
   "cell_type": "markdown",
   "metadata": {},
   "source": [
    "### Model evaluation\n",
    "\n",
    "**Generate predictions:**"
   ]
  },
  {
   "cell_type": "code",
   "execution_count": 47,
   "metadata": {},
   "outputs": [],
   "source": [
    "predictions = pipeline.predict(X_test)"
   ]
  },
  {
   "cell_type": "markdown",
   "metadata": {},
   "source": [
    "**Evaluate the model using classification report and confusion matrix:**"
   ]
  },
  {
   "cell_type": "code",
   "execution_count": 48,
   "metadata": {},
   "outputs": [
    {
     "name": "stdout",
     "output_type": "stream",
     "text": [
      "CONFUSION MATRIX\n",
      "\n",
      "Total number of\n",
      "\tTrue positives:\t\t 5929\n",
      "\tTrue negatives:\t\t 6745\n",
      "\tFalse positives:\t 316 \t\tType I error\n",
      "\tFalse negatives:\t 477 \t\tType II error\n",
      "\n",
      "\n",
      "Correct classifications:\t 94.11 %\n",
      "Incorrect classifications:\t 5.89 %\n",
      "\n",
      "CLASSIFICATION REPORT\n",
      "\n",
      "              precision    recall  f1-score   support\n",
      "\n",
      "   Fake News       0.93      0.96      0.94      7061\n",
      "   Real News       0.95      0.93      0.94      6406\n",
      "\n",
      "    accuracy                           0.94     13467\n",
      "   macro avg       0.94      0.94      0.94     13467\n",
      "weighted avg       0.94      0.94      0.94     13467\n",
      "\n"
     ]
    }
   ],
   "source": [
    "cm = confusion_matrix(y_test, predictions)\n",
    "print('CONFUSION MATRIX\\n')\n",
    "print('Total number of')\n",
    "print('\\tTrue positives:\\t\\t', cm[1,1])\n",
    "print('\\tTrue negatives:\\t\\t', cm[0,0])\n",
    "print('\\tFalse positives:\\t', cm[0,1], '\\t\\tType I error')\n",
    "print('\\tFalse negatives:\\t', cm[1,0], '\\t\\tType II error')\n",
    "print('\\n')\n",
    "print('Correct classifications:\\t', np.round(100*(cm[0,0]+cm[1,1])/len(X_test),2), '%')\n",
    "print('Incorrect classifications:\\t', np.round(100*(cm[1,0]+cm[0,1])/len(X_test),2), '%')\n",
    "print('\\nCLASSIFICATION REPORT\\n')\n",
    "print(classification_report(y_test, predictions))"
   ]
  },
  {
   "cell_type": "markdown",
   "metadata": {},
   "source": [
    "The model performed great in precision and recall for both labels.\n",
    "\n",
    "Looking at the confusion matrix, we can see that there are still quite a few False Negatives (Type II error) and False Positives (Type I error).\n",
    "\n",
    "**Let's see if the 'text' column, will help improve the model.**"
   ]
  },
  {
   "cell_type": "code",
   "execution_count": 49,
   "metadata": {},
   "outputs": [],
   "source": [
    "X = data['text']\n",
    "y = data['label']"
   ]
  },
  {
   "cell_type": "code",
   "execution_count": 50,
   "metadata": {},
   "outputs": [],
   "source": [
    "X_train, X_test, y_train, y_test = train_test_split(X, y, test_size=0.3,random_state=42)"
   ]
  },
  {
   "cell_type": "code",
   "execution_count": 51,
   "metadata": {},
   "outputs": [
    {
     "data": {
      "text/plain": [
       "Pipeline(memory=None,\n",
       "         steps=[('bow',\n",
       "                 CountVectorizer(analyzer='word', binary=False,\n",
       "                                 decode_error='strict',\n",
       "                                 dtype=<class 'numpy.int64'>, encoding='utf-8',\n",
       "                                 input='content', lowercase=True, max_df=1.0,\n",
       "                                 max_features=None, min_df=1,\n",
       "                                 ngram_range=(1, 1), preprocessor=None,\n",
       "                                 stop_words=None, strip_accents=None,\n",
       "                                 token_pattern='(?u)\\\\b\\\\w\\\\w+\\\\b',\n",
       "                                 tokenizer=None, vocabulary=None)),\n",
       "                ('tfidf',\n",
       "                 TfidfTransformer(norm='l2', smooth_idf=True,\n",
       "                                  sublinear_tf=False, use_idf=True)),\n",
       "                ('classifier',\n",
       "                 MultinomialNB(alpha=1.0, class_prior=None, fit_prior=True))],\n",
       "         verbose=False)"
      ]
     },
     "execution_count": 51,
     "metadata": {},
     "output_type": "execute_result"
    }
   ],
   "source": [
    "pipeline.fit(X_train,y_train)"
   ]
  },
  {
   "cell_type": "code",
   "execution_count": 52,
   "metadata": {},
   "outputs": [],
   "source": [
    "predictions = pipeline.predict(X_test)"
   ]
  },
  {
   "cell_type": "code",
   "execution_count": 53,
   "metadata": {},
   "outputs": [
    {
     "name": "stdout",
     "output_type": "stream",
     "text": [
      "CONFUSION MATRIX\n",
      "\n",
      "Total number of\n",
      "\tTrue positives:\t\t 6191\n",
      "\tTrue negatives:\t\t 6597\n",
      "\tFalse positives:\t 464 \t\tType I error\n",
      "\tFalse negatives:\t 215 \t\tType II error\n",
      "\n",
      "\n",
      "Correct classifications:\t 94.96 %\n",
      "Incorrect classifications:\t 5.04 %\n",
      "\n",
      "CLASSIFICATION REPORT\n",
      "\n",
      "              precision    recall  f1-score   support\n",
      "\n",
      "   Fake News       0.97      0.93      0.95      7061\n",
      "   Real News       0.93      0.97      0.95      6406\n",
      "\n",
      "    accuracy                           0.95     13467\n",
      "   macro avg       0.95      0.95      0.95     13467\n",
      "weighted avg       0.95      0.95      0.95     13467\n",
      "\n"
     ]
    }
   ],
   "source": [
    "cm = confusion_matrix(y_test, predictions)\n",
    "print('CONFUSION MATRIX\\n')\n",
    "print('Total number of')\n",
    "print('\\tTrue positives:\\t\\t', cm[1,1])\n",
    "print('\\tTrue negatives:\\t\\t', cm[0,0])\n",
    "print('\\tFalse positives:\\t', cm[0,1], '\\t\\tType I error')\n",
    "print('\\tFalse negatives:\\t', cm[1,0], '\\t\\tType II error')\n",
    "print('\\n')\n",
    "print('Correct classifications:\\t', np.round(100*(cm[0,0]+cm[1,1])/len(X_test),2), '%')\n",
    "print('Incorrect classifications:\\t', np.round(100*(cm[1,0]+cm[0,1])/len(X_test),2), '%')\n",
    "print('\\nCLASSIFICATION REPORT\\n')\n",
    "print(classification_report(y_test, predictions))"
   ]
  },
  {
   "cell_type": "markdown",
   "metadata": {},
   "source": [
    "The overall performance of the model was slightly improved when only using the 'text' column.\n",
    "\n",
    "**As a final test, let's try to combine the 'title' and 'text' columns as a new column called 'article'.**"
   ]
  },
  {
   "cell_type": "code",
   "execution_count": 54,
   "metadata": {},
   "outputs": [],
   "source": [
    "data['article'] = data['title'] + data['text']"
   ]
  },
  {
   "cell_type": "markdown",
   "metadata": {},
   "source": [
    "**We can now repeat the steps above and re-train the model using the data from this new column.**"
   ]
  },
  {
   "cell_type": "code",
   "execution_count": 55,
   "metadata": {},
   "outputs": [],
   "source": [
    "X = data['article']\n",
    "y = data['label']"
   ]
  },
  {
   "cell_type": "code",
   "execution_count": 56,
   "metadata": {},
   "outputs": [],
   "source": [
    "X_train, X_test, y_train, y_test = train_test_split(X, y, test_size=0.3,random_state=42) "
   ]
  },
  {
   "cell_type": "code",
   "execution_count": 57,
   "metadata": {},
   "outputs": [
    {
     "data": {
      "text/plain": [
       "Pipeline(memory=None,\n",
       "         steps=[('bow',\n",
       "                 CountVectorizer(analyzer='word', binary=False,\n",
       "                                 decode_error='strict',\n",
       "                                 dtype=<class 'numpy.int64'>, encoding='utf-8',\n",
       "                                 input='content', lowercase=True, max_df=1.0,\n",
       "                                 max_features=None, min_df=1,\n",
       "                                 ngram_range=(1, 1), preprocessor=None,\n",
       "                                 stop_words=None, strip_accents=None,\n",
       "                                 token_pattern='(?u)\\\\b\\\\w\\\\w+\\\\b',\n",
       "                                 tokenizer=None, vocabulary=None)),\n",
       "                ('tfidf',\n",
       "                 TfidfTransformer(norm='l2', smooth_idf=True,\n",
       "                                  sublinear_tf=False, use_idf=True)),\n",
       "                ('classifier',\n",
       "                 MultinomialNB(alpha=1.0, class_prior=None, fit_prior=True))],\n",
       "         verbose=False)"
      ]
     },
     "execution_count": 57,
     "metadata": {},
     "output_type": "execute_result"
    }
   ],
   "source": [
    "pipeline.fit(X_train,y_train)"
   ]
  },
  {
   "cell_type": "code",
   "execution_count": 58,
   "metadata": {},
   "outputs": [],
   "source": [
    "predictions = pipeline.predict(X_test)"
   ]
  },
  {
   "cell_type": "code",
   "execution_count": 59,
   "metadata": {},
   "outputs": [
    {
     "name": "stdout",
     "output_type": "stream",
     "text": [
      "CONFUSION MATRIX\n",
      "\n",
      "Total number of\n",
      "\tTrue positives:\t\t 6079\n",
      "\tTrue negatives:\t\t 6665\n",
      "\tFalse positives:\t 396 \t\tType I error\n",
      "\tFalse negatives:\t 327 \t\tType II error\n",
      "\n",
      "\n",
      "Correct classifications:\t 94.63 %\n",
      "Incorrect classifications:\t 5.37 %\n",
      "\n",
      "CLASSIFICATION REPORT\n",
      "\n",
      "              precision    recall  f1-score   support\n",
      "\n",
      "   Fake News       0.95      0.94      0.95      7061\n",
      "   Real News       0.94      0.95      0.94      6406\n",
      "\n",
      "    accuracy                           0.95     13467\n",
      "   macro avg       0.95      0.95      0.95     13467\n",
      "weighted avg       0.95      0.95      0.95     13467\n",
      "\n"
     ]
    }
   ],
   "source": [
    "cm = confusion_matrix(y_test, predictions)\n",
    "print('CONFUSION MATRIX\\n')\n",
    "print('Total number of')\n",
    "print('\\tTrue positives:\\t\\t', cm[1,1])\n",
    "print('\\tTrue negatives:\\t\\t', cm[0,0])\n",
    "print('\\tFalse positives:\\t', cm[0,1], '\\t\\tType I error')\n",
    "print('\\tFalse negatives:\\t', cm[1,0], '\\t\\tType II error')\n",
    "print('\\n')\n",
    "print('Correct classifications:\\t', np.round(100*(cm[0,0]+cm[1,1])/len(X_test),2), '%')\n",
    "print('Incorrect classifications:\\t', np.round(100*(cm[1,0]+cm[0,1])/len(X_test),2), '%')\n",
    "print('\\nCLASSIFICATION REPORT\\n')\n",
    "print(classification_report(y_test, predictions))"
   ]
  },
  {
   "cell_type": "markdown",
   "metadata": {},
   "source": [
    "As expected, the performance of the model using the entire article (i.e. title + text) performed as the average of the 'title' and 'text' models."
   ]
  },
  {
   "cell_type": "markdown",
   "metadata": {},
   "source": [
    "## Conclusion\n",
    "\n",
    "Using data manipulation and visualization, feature engineering and natural language processing, we were able to train a Naive Bayes Machine Learning model that can distinguish between Real News and Fake News with an accuracy of 95% on test data. Considering that the original dataset was well balanced (i.e. comparable number of Fake News and Real News samples), this final result can be considered great.\n",
    "\n",
    "**This pipeline could easily be transferred to other binary text classification problems (e.g. ham or spam emails).**"
   ]
  }
 ],
 "metadata": {
  "kernelspec": {
   "display_name": "Python 3",
   "language": "python",
   "name": "python3"
  },
  "language_info": {
   "codemirror_mode": {
    "name": "ipython",
    "version": 3
   },
   "file_extension": ".py",
   "mimetype": "text/x-python",
   "name": "python",
   "nbconvert_exporter": "python",
   "pygments_lexer": "ipython3",
   "version": "3.6.7"
  }
 },
 "nbformat": 4,
 "nbformat_minor": 4
}
